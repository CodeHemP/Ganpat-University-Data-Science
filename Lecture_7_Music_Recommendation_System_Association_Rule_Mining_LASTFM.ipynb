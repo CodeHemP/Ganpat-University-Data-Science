{
  "nbformat": 4,
  "nbformat_minor": 0,
  "metadata": {
    "kernelspec": {
      "display_name": "Python 3",
      "language": "python",
      "name": "python3"
    },
    "language_info": {
      "codemirror_mode": {
        "name": "ipython",
        "version": 3
      },
      "file_extension": ".py",
      "mimetype": "text/x-python",
      "name": "python",
      "nbconvert_exporter": "python",
      "pygments_lexer": "ipython3",
      "version": "3.6.6"
    },
    "colab": {
      "name": "Lecture_7_Association_Rule_Mining_LASTFM.ipynb",
      "provenance": [],
      "collapsed_sections": [],
      "include_colab_link": true
    }
  },
  "cells": [
    {
      "cell_type": "markdown",
      "metadata": {
        "id": "view-in-github",
        "colab_type": "text"
      },
      "source": [
        "<a href=\"https://colab.research.google.com/github/ashishpatel26/Ganpat-University-Data-Science/blob/main/Lecture_7_Music_Recommendation_System_Association_Rule_Mining_LASTFM.ipynb\" target=\"_parent\"><img src=\"https://colab.research.google.com/assets/colab-badge.svg\" alt=\"Open In Colab\"/></a>"
      ]
    },
    {
      "cell_type": "markdown",
      "metadata": {
        "id": "CoOsQBGs-RPF"
      },
      "source": [
        "# Association Rule Mining of Last FM\n",
        "\n",
        "* Datatset : https://www.biz.uiowa.edu/faculty/jledolter/DataMining/lastfm.csv\n",
        "* We have total Transaction : **289955**\n",
        "* We have library(apyori) to calculate the association rule using Apriori.\n",
        "\n",
        "> Requirement : `# pip install apyori`\n",
        "\n",
        "---\n",
        "Notebook outline\n",
        "---\n",
        "1. <b><a href=\"#1\">Import Required Packages</a></b>\n",
        "1. <b><a href=\"#2\">Load Dataset</a></b>\n",
        "1. <b><a href=\"#3\">Generate Shallow Copy</a></b>\n",
        "1. <b><a href=\"#4\">Differentiate Data and Extract useful columns</a></b>\n",
        "1. <b><a href=\"#5\">Drop Duplicate Data</a></b>\n",
        "1. <b><a href=\"#6\">Transform Dataset into form of Transaction into list</a></b>\n",
        "1. <b><a href=\"#7\">Generate Rule using Apriori Algorithm</a></b>\n",
        "1. <b><a href=\"#8\">Display All Rules</a></b>\n",
        "1. <b><a href=\"#9\">Final Result with Support, Confidense and Lift</a></b>\n",
        "\n",
        "---\n",
        "## Algorithm Explaination:\n",
        "---\n",
        "\n",
        "* We have provide `min_support`, `min_confidence`, `min_lift`, and `min length` of sample-set for find rule.\n",
        "\n",
        "#### Measure 1: Support.\n",
        "This says how popular an itemset is, as measured by the proportion of transactions in which an itemset appears. In Table 1 below, the support of {apple} is 4 out of 8, or 50%. Itemsets can also contain multiple items. For instance, the support of {apple, beer, rice} is 2 out of 8, or 25%.\n",
        "\n",
        "![](https://annalyzin.files.wordpress.com/2016/04/association-rule-support-table.png?w=503&h=447)\n",
        "\n",
        "If you discover that sales of items beyond a certain proportion tend to have a significant impact on your profits, you might consider using that proportion as your support threshold. You may then identify itemsets with support values above this threshold as significant itemsets.\n",
        "\n",
        "#### Measure 2: Confidence. \n",
        "This says how likely item Y is purchased when item X is purchased, expressed as {X -> Y}. This is measured by the proportion of transactions with item X, in which item Y also appears. In Table 1, the confidence of {apple -> beer} is 3 out of 4, or 75%.\n",
        "\n",
        "![](https://annalyzin.files.wordpress.com/2016/03/association-rule-confidence-eqn.png?w=527&h=77)\n",
        "\n",
        "One drawback of the confidence measure is that it might misrepresent the importance of an association. This is because it only accounts for how popular apples are, but not beers. If beers are also very popular in general, there will be a higher chance that a transaction containing apples will also contain beers, thus inflating the confidence measure. To account for the base popularity of both constituent items, we use a third measure called lift.\n",
        "\n",
        "#### Measure 3: Lift. \n",
        "This says how likely item Y is purchased when item X is purchased, while controlling for how popular item Y is. In Table 1, the lift of {apple -> beer} is 1,which implies no association between items. A lift value greater than 1 means that item Y is likely to be bought if item X is bought, while a value less than 1 means that item Y is unlikely to be bought if item X is bought.\n",
        "![](https://annalyzin.files.wordpress.com/2016/03/association-rule-lift-eqn.png?w=566&h=80)\n",
        "\n",
        "---"
      ]
    },
    {
      "cell_type": "markdown",
      "metadata": {
        "id": "PiTGvNA6-RPN"
      },
      "source": [
        "### 1.Import Required Packages <h2 id=\"1\"> </h2>"
      ]
    },
    {
      "cell_type": "code",
      "metadata": {
        "_cell_guid": "b1076dfc-b9ad-4769-8c92-a6c4dae69d19",
        "_uuid": "8f2839f25d086af736a60e9eeb907d3b93b6e0e5",
        "colab": {
          "base_uri": "https://localhost:8080/"
        },
        "id": "9BLi1V2J-RPO",
        "outputId": "9f5b810d-55d2-4328-84fc-32f315c09b48"
      },
      "source": [
        "!pip install apyori\n",
        "import numpy as np # linear algebra\n",
        "import pandas as pd # data processing, CSV file I/O (e.g. pd.read_csv)\n",
        "import matplotlib.pyplot as plt\n",
        "from apyori import apriori\n",
        "%matplotlib inline\n",
        "import os"
      ],
      "execution_count": 2,
      "outputs": [
        {
          "output_type": "stream",
          "text": [
            "Requirement already satisfied: apyori in /usr/local/lib/python3.7/dist-packages (1.1.2)\n"
          ],
          "name": "stdout"
        }
      ]
    },
    {
      "cell_type": "markdown",
      "metadata": {
        "id": "TPRzVGkt-RPP"
      },
      "source": [
        "### 2.Load Dataset <span id=\"2\"> </span>"
      ]
    },
    {
      "cell_type": "code",
      "metadata": {
        "_cell_guid": "79c7e3d0-c299-4dcb-8224-4455121ee9b0",
        "_uuid": "d629ff2d2480ee46fbb7e2d37f6b5fab8052498a",
        "id": "fi2Rt3sf-RPP"
      },
      "source": [
        "lastfm1 = pd.read_csv(\"https://www.biz.uiowa.edu/faculty/jledolter/DataMining/lastfm.csv\")"
      ],
      "execution_count": 3,
      "outputs": []
    },
    {
      "cell_type": "markdown",
      "metadata": {
        "id": "04kFr1ng-RPQ"
      },
      "source": [
        "### 3.Generate Shallow Copy<span id=\"3\"></span>"
      ]
    },
    {
      "cell_type": "code",
      "metadata": {
        "colab": {
          "base_uri": "https://localhost:8080/"
        },
        "id": "UWn_0Wkv-RPQ",
        "outputId": "9539d36e-b214-4fe5-eafc-df924e774be7"
      },
      "source": [
        "lastfm = lastfm1.copy()\n",
        "lastfm.shape"
      ],
      "execution_count": 4,
      "outputs": [
        {
          "output_type": "execute_result",
          "data": {
            "text/plain": [
              "(289955, 4)"
            ]
          },
          "metadata": {
            "tags": []
          },
          "execution_count": 4
        }
      ]
    },
    {
      "cell_type": "markdown",
      "metadata": {
        "id": "APC779JQ-RPQ"
      },
      "source": [
        "### 4.Differentiate Data and Extract useful columns <span id=\"4\"></span>"
      ]
    },
    {
      "cell_type": "code",
      "metadata": {
        "colab": {
          "base_uri": "https://localhost:8080/",
          "height": 196
        },
        "id": "WcCHAovp-RPR",
        "outputId": "fe42a751-98b4-459e-bf6f-2cdf1a99a266"
      },
      "source": [
        "lastfm = lastfm[['user','artist']]\n",
        "lastfm.head()"
      ],
      "execution_count": 6,
      "outputs": [
        {
          "output_type": "execute_result",
          "data": {
            "text/html": [
              "<div>\n",
              "<style scoped>\n",
              "    .dataframe tbody tr th:only-of-type {\n",
              "        vertical-align: middle;\n",
              "    }\n",
              "\n",
              "    .dataframe tbody tr th {\n",
              "        vertical-align: top;\n",
              "    }\n",
              "\n",
              "    .dataframe thead th {\n",
              "        text-align: right;\n",
              "    }\n",
              "</style>\n",
              "<table border=\"1\" class=\"dataframe\">\n",
              "  <thead>\n",
              "    <tr style=\"text-align: right;\">\n",
              "      <th></th>\n",
              "      <th>user</th>\n",
              "      <th>artist</th>\n",
              "    </tr>\n",
              "  </thead>\n",
              "  <tbody>\n",
              "    <tr>\n",
              "      <th>0</th>\n",
              "      <td>1</td>\n",
              "      <td>red hot chili peppers</td>\n",
              "    </tr>\n",
              "    <tr>\n",
              "      <th>1</th>\n",
              "      <td>1</td>\n",
              "      <td>the black dahlia murder</td>\n",
              "    </tr>\n",
              "    <tr>\n",
              "      <th>2</th>\n",
              "      <td>1</td>\n",
              "      <td>goldfrapp</td>\n",
              "    </tr>\n",
              "    <tr>\n",
              "      <th>3</th>\n",
              "      <td>1</td>\n",
              "      <td>dropkick murphys</td>\n",
              "    </tr>\n",
              "    <tr>\n",
              "      <th>4</th>\n",
              "      <td>1</td>\n",
              "      <td>le tigre</td>\n",
              "    </tr>\n",
              "  </tbody>\n",
              "</table>\n",
              "</div>"
            ],
            "text/plain": [
              "   user                   artist\n",
              "0     1    red hot chili peppers\n",
              "1     1  the black dahlia murder\n",
              "2     1                goldfrapp\n",
              "3     1         dropkick murphys\n",
              "4     1                 le tigre"
            ]
          },
          "metadata": {
            "tags": []
          },
          "execution_count": 6
        }
      ]
    },
    {
      "cell_type": "markdown",
      "metadata": {
        "id": "RTHAWNE6-RPR"
      },
      "source": [
        "### 5.Drop Duplicate Data <span id=\"5\"></span>"
      ]
    },
    {
      "cell_type": "code",
      "metadata": {
        "colab": {
          "base_uri": "https://localhost:8080/"
        },
        "id": "ALYdMKwU-RPR",
        "outputId": "fc732a0a-a16e-4183-b1f6-c36b88c34683"
      },
      "source": [
        "lastfm = lastfm.drop_duplicates()\n",
        "lastfm.shape"
      ],
      "execution_count": 7,
      "outputs": [
        {
          "output_type": "execute_result",
          "data": {
            "text/plain": [
              "(289953, 2)"
            ]
          },
          "metadata": {
            "tags": []
          },
          "execution_count": 7
        }
      ]
    },
    {
      "cell_type": "markdown",
      "metadata": {
        "id": "GGN4hEOt-RPS"
      },
      "source": [
        "### 6.Transform Dataset into form of Transaction into list <span id=\"6\"></span>"
      ]
    },
    {
      "cell_type": "code",
      "metadata": {
        "id": "bguTPhr9-RPS"
      },
      "source": [
        "records = []\n",
        "for i in lastfm['user'].unique():\n",
        "    records.append(list(lastfm[lastfm['user'] == i]['artist'].values))"
      ],
      "execution_count": 8,
      "outputs": []
    },
    {
      "cell_type": "code",
      "metadata": {
        "colab": {
          "base_uri": "https://localhost:8080/"
        },
        "id": "ghdf0url-RPS",
        "outputId": "8a3a8d46-07bf-4298-e93a-1dbd83aa6976"
      },
      "source": [
        "print(type(records))"
      ],
      "execution_count": 9,
      "outputs": [
        {
          "output_type": "stream",
          "text": [
            "<class 'list'>\n"
          ],
          "name": "stdout"
        }
      ]
    },
    {
      "cell_type": "code",
      "metadata": {
        "colab": {
          "base_uri": "https://localhost:8080/"
        },
        "id": "ahNMbzjN-ld4",
        "outputId": "45b9eda5-3161-4b4d-e17e-49f6b139d95e"
      },
      "source": [
        "for i in range(5):\n",
        "  print(records[i][:5])"
      ],
      "execution_count": 15,
      "outputs": [
        {
          "output_type": "stream",
          "text": [
            "['red hot chili peppers', 'the black dahlia murder', 'goldfrapp', 'dropkick murphys', 'le tigre']\n",
            "['devendra banhart', 'boards of canada', 'cocorosie', 'aphex twin', 'animal collective']\n",
            "['tv on the radio', 'tool', 'kyuss', 'dj shadow', 'air']\n",
            "['dream theater', 'ac/dc', 'metallica', 'iron maiden', 'bob marley & the wailers']\n",
            "['lily allen', 'kanye west', 'sigur rós', 'pink floyd', 'stevie wonder']\n"
          ],
          "name": "stdout"
        }
      ]
    },
    {
      "cell_type": "markdown",
      "metadata": {
        "id": "qCv2YKt--RPS"
      },
      "source": [
        "### 7.Generate Rule using Apriori Algorithm <span id=\"7\"></span>"
      ]
    },
    {
      "cell_type": "code",
      "metadata": {
        "id": "phIA8UUa-RPT"
      },
      "source": [
        "association_rules = apriori(records, min_support=0.01, min_confidence=0.4, min_lift=3, min_length=2)\n",
        "association_results = list(association_rules)"
      ],
      "execution_count": 16,
      "outputs": []
    },
    {
      "cell_type": "code",
      "metadata": {
        "colab": {
          "base_uri": "https://localhost:8080/"
        },
        "id": "0kIADEFm-RPT",
        "outputId": "bcc5018d-fb0c-498d-e517-cb58cd322d59"
      },
      "source": [
        "print(\"There are {} Relation derived.\".format(len(association_results)))"
      ],
      "execution_count": 17,
      "outputs": [
        {
          "output_type": "stream",
          "text": [
            "There are 91 Relation derived.\n"
          ],
          "name": "stdout"
        }
      ]
    },
    {
      "cell_type": "markdown",
      "metadata": {
        "id": "Th5PJNZX-RPT"
      },
      "source": [
        "### 8.Display All Rules<span id=\"8\"></span>"
      ]
    },
    {
      "cell_type": "code",
      "metadata": {
        "colab": {
          "base_uri": "https://localhost:8080/"
        },
        "id": "XDkVyU5E-RPT",
        "outputId": "3db32bdd-1a19-4dff-c898-72c00b9326da"
      },
      "source": [
        "for i in range(0, len(association_results)):\n",
        "    print(association_results[i][0])"
      ],
      "execution_count": 18,
      "outputs": [
        {
          "output_type": "stream",
          "text": [
            "frozenset({'tool', 'a perfect circle'})\n",
            "frozenset({'arctic monkeys', 'kaiser chiefs'})\n",
            "frozenset({'beyoncé', 'rihanna'})\n",
            "frozenset({'black sabbath', 'metallica'})\n",
            "frozenset({'sum 41', 'blink-182'})\n",
            "frozenset({'linkin park', 'breaking benjamin'})\n",
            "frozenset({'bright eyes', 'death cab for cutie'})\n",
            "frozenset({'broken social scene', 'death cab for cutie'})\n",
            "frozenset({'broken social scene', 'radiohead'})\n",
            "frozenset({'in flames', 'children of bodom'})\n",
            "frozenset({'coldplay', 'keane'})\n",
            "frozenset({'snow patrol', 'coldplay'})\n",
            "frozenset({'coldplay', 'the fray'})\n",
            "frozenset({'coldplay', 'travis'})\n",
            "frozenset({'daft punk', 'justice'})\n",
            "frozenset({'the decemberists', 'death cab for cutie'})\n",
            "frozenset({'the postal service', 'death cab for cutie'})\n",
            "frozenset({'the shins', 'death cab for cutie'})\n",
            "frozenset({'led zeppelin', 'deep purple'})\n",
            "frozenset({'dream theater', 'metallica'})\n",
            "frozenset({'panic at the disco', 'fall out boy'})\n",
            "frozenset({'franz ferdinand', 'kaiser chiefs'})\n",
            "frozenset({'good charlotte', 'linkin park'})\n",
            "frozenset({'guns n roses', 'metallica'})\n",
            "frozenset({'judas priest', 'iron maiden'})\n",
            "frozenset({'megadeth', 'iron maiden'})\n",
            "frozenset({'metallica', 'iron maiden'})\n",
            "frozenset({'jay-z', 'kanye west'})\n",
            "frozenset({'nas', 'jay-z'})\n",
            "frozenset({'led zeppelin', 'jimi hendrix'})\n",
            "frozenset({'judas priest', 'metallica'})\n",
            "frozenset({'kaiser chiefs', 'the killers'})\n",
            "frozenset({'nas', 'kanye west'})\n",
            "frozenset({'t.i.', 'kanye west'})\n",
            "frozenset({'keane', 'the killers'})\n",
            "frozenset({'system of a down', 'koЯn'})\n",
            "frozenset({'kylie minogue', 'madonna'})\n",
            "frozenset({'led zeppelin', 'pink floyd'})\n",
            "frozenset({'linkin park', 'limp bizkit'})\n",
            "frozenset({'linkin park', 'papa roach'})\n",
            "frozenset({'megadeth', 'metallica'})\n",
            "frozenset({'motörhead', 'metallica'})\n",
            "frozenset({'pantera', 'metallica'})\n",
            "frozenset({'slayer', 'metallica'})\n",
            "frozenset({'the smiths', 'morrissey'})\n",
            "frozenset({'nightwish', 'sonata arctica'})\n",
            "frozenset({'the pussycat dolls', 'rihanna'})\n",
            "frozenset({'system of a down', 'slipknot'})\n",
            "frozenset({'muse', 'arctic monkeys', 'coldplay'})\n",
            "frozenset({'radiohead', 'arctic monkeys', 'coldplay'})\n",
            "frozenset({'arctic monkeys', 'coldplay', 'the killers'})\n",
            "frozenset({'muse', 'arctic monkeys', 'radiohead'})\n",
            "frozenset({'muse', 'arctic monkeys', 'the killers'})\n",
            "frozenset({'beck', 'radiohead', 'the beatles'})\n",
            "frozenset({'coldplay', 'bloc party', 'the killers'})\n",
            "frozenset({'bob dylan', 'pink floyd', 'the beatles'})\n",
            "frozenset({'bob dylan', 'the beatles', 'radiohead'})\n",
            "frozenset({'bob dylan', 'the rolling stones', 'the beatles'})\n",
            "frozenset({'coldplay', 'death cab for cutie', 'the killers'})\n",
            "frozenset({'foo fighters', 'coldplay', 'red hot chili peppers'})\n",
            "frozenset({'coldplay', 'franz ferdinand', 'the killers'})\n",
            "frozenset({'muse', 'coldplay', 'placebo'})\n",
            "frozenset({'muse', 'coldplay', 'the killers'})\n",
            "frozenset({'coldplay', 'nirvana', 'red hot chili peppers'})\n",
            "frozenset({'coldplay', 'radiohead', 'oasis'})\n",
            "frozenset({'coldplay', 'the beatles', 'oasis'})\n",
            "frozenset({'coldplay', 'oasis', 'the killers'})\n",
            "frozenset({'sigur rós', 'coldplay', 'radiohead'})\n",
            "frozenset({'snow patrol', 'coldplay', 'radiohead'})\n",
            "frozenset({'coldplay', 'radiohead', 'the killers'})\n",
            "frozenset({'coldplay', 'radiohead', 'the smashing pumpkins'})\n",
            "frozenset({'u2', 'coldplay', 'radiohead'})\n",
            "frozenset({'coldplay', 'the killers', 'red hot chili peppers'})\n",
            "frozenset({'snow patrol', 'coldplay', 'the killers'})\n",
            "frozenset({'coldplay', 'the beatles', 'the killers'})\n",
            "frozenset({'pink floyd', 'the beatles', 'david bowie'})\n",
            "frozenset({'the rolling stones', 'the beatles', 'david bowie'})\n",
            "frozenset({'radiohead', 'the shins', 'death cab for cutie'})\n",
            "frozenset({'led zeppelin', 'pink floyd', 'radiohead'})\n",
            "frozenset({'led zeppelin', 'pink floyd', 'the beatles'})\n",
            "frozenset({'led zeppelin', 'pink floyd', 'the doors'})\n",
            "frozenset({'led zeppelin', 'the beatles', 'the rolling stones'})\n",
            "frozenset({'red hot chili peppers', 'nirvana', 'metallica'})\n",
            "frozenset({'muse', 'radiohead', 'placebo'})\n",
            "frozenset({'muse', 'radiohead', 'the killers'})\n",
            "frozenset({'pink floyd', 'the beatles', 'the doors'})\n",
            "frozenset({'sigur rós', 'the beatles', 'radiohead'})\n",
            "frozenset({'the rolling stones', 'the beatles', 'radiohead'})\n",
            "frozenset({'the shins', 'the beatles', 'radiohead'})\n",
            "frozenset({'the beatles', 'radiohead', 'the smashing pumpkins'})\n",
            "frozenset({'the beatles', 'radiohead', 'the strokes'})\n"
          ],
          "name": "stdout"
        }
      ]
    },
    {
      "cell_type": "markdown",
      "metadata": {
        "id": "Cec8Tbgt-RPU"
      },
      "source": [
        "### 9.Final Result with Support, Confidense and Lift <span id=\"9\"></span>"
      ]
    },
    {
      "cell_type": "code",
      "metadata": {
        "colab": {
          "base_uri": "https://localhost:8080/"
        },
        "id": "DDqkkcV4-RPU",
        "outputId": "e6812001-db5e-42e6-f127-16de037a2f0c"
      },
      "source": [
        "for item in association_results:\n",
        "    # first index of the inner list\n",
        "    # Contains base item and add item\n",
        "    pair = item[0]\n",
        "    items = [x for x in pair]\n",
        "    print(\"Rule: With \" + items[0] + \" you can also listen \" + items[1])\n",
        "\n",
        "    # second index of the inner list\n",
        "    print(\"Support: \" + str(item[1]))\n",
        "\n",
        "    # third index of the list located at 0th\n",
        "    # of the third index of the inner list\n",
        "\n",
        "    print(\"Confidence: \" + str(item[2][0][2]))\n",
        "    print(\"Lift: \" + str(item[2][0][3]))\n",
        "    print(\"=====================================\")"
      ],
      "execution_count": 21,
      "outputs": [
        {
          "output_type": "stream",
          "text": [
            "Rule: With tool you can also listen a perfect circle\n",
            "Support: 0.016266666666666665\n",
            "Confidence: 0.44283121597096187\n",
            "Lift: 8.717149920688225\n",
            "=====================================\n",
            "Rule: With arctic monkeys you can also listen kaiser chiefs\n",
            "Support: 0.012533333333333334\n",
            "Confidence: 0.4008528784648188\n",
            "Lift: 5.3116547499755145\n",
            "=====================================\n",
            "Rule: With beyoncé you can also listen rihanna\n",
            "Support: 0.013933333333333334\n",
            "Confidence: 0.46860986547085204\n",
            "Lift: 10.88103402796096\n",
            "=====================================\n",
            "Rule: With black sabbath you can also listen metallica\n",
            "Support: 0.0172\n",
            "Confidence: 0.45263157894736844\n",
            "Lift: 4.06555310431768\n",
            "=====================================\n",
            "Rule: With sum 41 you can also listen blink-182\n",
            "Support: 0.014133333333333333\n",
            "Confidence: 0.42741935483870963\n",
            "Lift: 7.420474910394264\n",
            "=====================================\n",
            "Rule: With linkin park you can also listen breaking benjamin\n",
            "Support: 0.0108\n",
            "Confidence: 0.4426229508196721\n",
            "Lift: 4.507362024640246\n",
            "=====================================\n",
            "Rule: With bright eyes you can also listen death cab for cutie\n",
            "Support: 0.0152\n",
            "Confidence: 0.4021164021164021\n",
            "Lift: 4.944054124381993\n",
            "=====================================\n",
            "Rule: With broken social scene you can also listen death cab for cutie\n",
            "Support: 0.011466666666666667\n",
            "Confidence: 0.41646489104116224\n",
            "Lift: 5.120469971817569\n",
            "=====================================\n",
            "Rule: With broken social scene you can also listen radiohead\n",
            "Support: 0.015066666666666667\n",
            "Confidence: 0.5472154963680388\n",
            "Lift: 3.0355889221599788\n",
            "=====================================\n",
            "Rule: With in flames you can also listen children of bodom\n",
            "Support: 0.013\n",
            "Confidence: 0.4012345679012346\n",
            "Lift: 8.111210941399621\n",
            "=====================================\n",
            "Rule: With coldplay you can also listen keane\n",
            "Support: 0.022266666666666667\n",
            "Confidence: 0.6374045801526719\n",
            "Lift: 4.020634441669503\n",
            "=====================================\n",
            "Rule: With snow patrol you can also listen coldplay\n",
            "Support: 0.026466666666666666\n",
            "Confidence: 0.5251322751322751\n",
            "Lift: 3.312440759875579\n",
            "=====================================\n",
            "Rule: With coldplay you can also listen the fray\n",
            "Support: 0.011266666666666666\n",
            "Confidence: 0.5168195718654434\n",
            "Lift: 3.2600057098324853\n",
            "=====================================\n",
            "Rule: With coldplay you can also listen travis\n",
            "Support: 0.013733333333333334\n",
            "Confidence: 0.5628415300546448\n",
            "Lift: 3.5503040163245045\n",
            "=====================================\n",
            "Rule: With daft punk you can also listen justice\n",
            "Support: 0.014533333333333334\n",
            "Confidence: 0.42661448140900193\n",
            "Lift: 5.613348439592131\n",
            "=====================================\n",
            "Rule: With the decemberists you can also listen death cab for cutie\n",
            "Support: 0.013466666666666667\n",
            "Confidence: 0.42348008385744235\n",
            "Lift: 5.206722342509537\n",
            "=====================================\n",
            "Rule: With the postal service you can also listen death cab for cutie\n",
            "Support: 0.015333333333333332\n",
            "Confidence: 0.46938775510204084\n",
            "Lift: 5.771160923385748\n",
            "=====================================\n",
            "Rule: With the shins you can also listen death cab for cutie\n",
            "Support: 0.02\n",
            "Confidence: 0.4048582995951417\n",
            "Lift: 4.977765978628792\n",
            "=====================================\n",
            "Rule: With led zeppelin you can also listen deep purple\n",
            "Support: 0.010866666666666667\n",
            "Confidence: 0.4024691358024691\n",
            "Lift: 5.0816810076069325\n",
            "=====================================\n",
            "Rule: With dream theater you can also listen metallica\n",
            "Support: 0.013666666666666667\n",
            "Confidence: 0.4124748490945674\n",
            "Lift: 3.70486391402306\n",
            "=====================================\n",
            "Rule: With panic at the disco you can also listen fall out boy\n",
            "Support: 0.011533333333333333\n",
            "Confidence: 0.43467336683417085\n",
            "Lift: 8.413032906467823\n",
            "=====================================\n",
            "Rule: With franz ferdinand you can also listen kaiser chiefs\n",
            "Support: 0.0132\n",
            "Confidence: 0.4221748400852879\n",
            "Lift: 7.115306293572267\n",
            "=====================================\n",
            "Rule: With good charlotte you can also listen linkin park\n",
            "Support: 0.010133333333333333\n",
            "Confidence: 0.40533333333333327\n",
            "Lift: 4.127630685675491\n",
            "=====================================\n",
            "Rule: With guns n roses you can also listen metallica\n",
            "Support: 0.011866666666666666\n",
            "Confidence: 0.419811320754717\n",
            "Lift: 3.770760366060332\n",
            "=====================================\n",
            "Rule: With judas priest you can also listen iron maiden\n",
            "Support: 0.013533333333333333\n",
            "Confidence: 0.5075\n",
            "Lift: 8.56299212598425\n",
            "=====================================\n",
            "Rule: With megadeth you can also listen iron maiden\n",
            "Support: 0.013266666666666666\n",
            "Confidence: 0.4307359307359307\n",
            "Lift: 7.26776036112369\n",
            "=====================================\n",
            "Rule: With metallica you can also listen iron maiden\n",
            "Support: 0.0296\n",
            "Confidence: 0.49943757030371205\n",
            "Lift: 4.485966200332743\n",
            "=====================================\n",
            "Rule: With jay-z you can also listen kanye west\n",
            "Support: 0.015066666666666667\n",
            "Confidence: 0.4967032967032967\n",
            "Lift: 7.752913059884965\n",
            "=====================================\n",
            "Rule: With nas you can also listen jay-z\n",
            "Support: 0.0106\n",
            "Confidence: 0.4262734584450402\n",
            "Lift: 14.052971157528798\n",
            "=====================================\n",
            "Rule: With led zeppelin you can also listen jimi hendrix\n",
            "Support: 0.017\n",
            "Confidence: 0.4314720812182742\n",
            "Lift: 5.447879813362047\n",
            "=====================================\n",
            "Rule: With judas priest you can also listen metallica\n",
            "Support: 0.013133333333333334\n",
            "Confidence: 0.4925\n",
            "Lift: 4.423652694610778\n",
            "=====================================\n",
            "Rule: With kaiser chiefs you can also listen the killers\n",
            "Support: 0.015066666666666667\n",
            "Confidence: 0.4818763326226013\n",
            "Lift: 4.907090963570279\n",
            "=====================================\n",
            "Rule: With nas you can also listen kanye west\n",
            "Support: 0.0104\n",
            "Confidence: 0.41823056300268097\n",
            "Lift: 6.528052492237476\n",
            "=====================================\n",
            "Rule: With t.i. you can also listen kanye west\n",
            "Support: 0.0104\n",
            "Confidence: 0.5672727272727273\n",
            "Lift: 8.854413016743923\n",
            "=====================================\n",
            "Rule: With keane you can also listen the killers\n",
            "Support: 0.014066666666666667\n",
            "Confidence: 0.40267175572519087\n",
            "Lift: 4.100527044044714\n",
            "=====================================\n",
            "Rule: With system of a down you can also listen koЯn\n",
            "Support: 0.0214\n",
            "Confidence: 0.43437077131258456\n",
            "Lift: 4.773305179259171\n",
            "=====================================\n",
            "Rule: With kylie minogue you can also listen madonna\n",
            "Support: 0.010933333333333333\n",
            "Confidence: 0.478134110787172\n",
            "Lift: 8.757034996102051\n",
            "=====================================\n",
            "Rule: With led zeppelin you can also listen pink floyd\n",
            "Support: 0.032\n",
            "Confidence: 0.40404040404040403\n",
            "Lift: 3.8504485772592507\n",
            "=====================================\n",
            "Rule: With linkin park you can also listen limp bizkit\n",
            "Support: 0.0128\n",
            "Confidence: 0.4507042253521127\n",
            "Lift: 4.589656062648806\n",
            "=====================================\n",
            "Rule: With linkin park you can also listen papa roach\n",
            "Support: 0.013133333333333334\n",
            "Confidence: 0.4712918660287081\n",
            "Lift: 4.799306171371773\n",
            "=====================================\n",
            "Rule: With megadeth you can also listen metallica\n",
            "Support: 0.016266666666666665\n",
            "Confidence: 0.5281385281385281\n",
            "Lift: 4.743759234777198\n",
            "=====================================\n",
            "Rule: With motörhead you can also listen metallica\n",
            "Support: 0.010133333333333333\n",
            "Confidence: 0.4293785310734463\n",
            "Lift: 3.856693392875266\n",
            "=====================================\n",
            "Rule: With pantera you can also listen metallica\n",
            "Support: 0.012466666666666666\n",
            "Confidence: 0.45945945945945943\n",
            "Lift: 4.126881372390354\n",
            "=====================================\n",
            "Rule: With slayer you can also listen metallica\n",
            "Support: 0.015933333333333334\n",
            "Confidence: 0.47420634920634924\n",
            "Lift: 4.259338465925293\n",
            "=====================================\n",
            "Rule: With the smiths you can also listen morrissey\n",
            "Support: 0.011266666666666666\n",
            "Confidence: 0.465564738292011\n",
            "Lift: 8.896141496025688\n",
            "=====================================\n",
            "Rule: With nightwish you can also listen sonata arctica\n",
            "Support: 0.013466666666666667\n",
            "Confidence: 0.51010101010101\n",
            "Lift: 8.236291874612649\n",
            "=====================================\n",
            "Rule: With the pussycat dolls you can also listen rihanna\n",
            "Support: 0.0104\n",
            "Confidence: 0.5777777777777778\n",
            "Lift: 13.415892672858618\n",
            "=====================================\n",
            "Rule: With system of a down you can also listen slipknot\n",
            "Support: 0.018533333333333332\n",
            "Confidence: 0.41124260355029585\n",
            "Lift: 4.519149489563691\n",
            "=====================================\n",
            "Rule: With muse you can also listen arctic monkeys\n",
            "Support: 0.0116\n",
            "Confidence: 0.4275184275184275\n",
            "Lift: 3.747969849664765\n",
            "=====================================\n",
            "Rule: With radiohead you can also listen arctic monkeys\n",
            "Support: 0.013066666666666667\n",
            "Confidence: 0.48877805486284287\n",
            "Lift: 3.0831248204132224\n",
            "=====================================\n",
            "Rule: With arctic monkeys you can also listen coldplay\n",
            "Support: 0.012333333333333333\n",
            "Confidence: 0.4545454545454546\n",
            "Lift: 4.628772449546381\n",
            "=====================================\n",
            "Rule: With muse you can also listen arctic monkeys\n",
            "Support: 0.011\n",
            "Confidence: 0.41147132169576056\n",
            "Lift: 3.607288033568912\n",
            "=====================================\n",
            "Rule: With muse you can also listen arctic monkeys\n",
            "Support: 0.011066666666666667\n",
            "Confidence: 0.46368715083798884\n",
            "Lift: 4.721865079816587\n",
            "=====================================\n",
            "Rule: With beck you can also listen radiohead\n",
            "Support: 0.013\n",
            "Confidence: 0.5909090909090909\n",
            "Lift: 3.2779720279720284\n",
            "=====================================\n",
            "Rule: With coldplay you can also listen bloc party\n",
            "Support: 0.011066666666666667\n",
            "Confidence: 0.4811594202898551\n",
            "Lift: 4.899790430650255\n",
            "=====================================\n",
            "Rule: With bob dylan you can also listen pink floyd\n",
            "Support: 0.010333333333333333\n",
            "Confidence: 0.6150793650793651\n",
            "Lift: 3.4580923823802387\n",
            "=====================================\n",
            "Rule: With bob dylan you can also listen the beatles\n",
            "Support: 0.013866666666666666\n",
            "Confidence: 0.5730027548209367\n",
            "Lift: 3.2215297310022675\n",
            "=====================================\n",
            "Rule: With bob dylan you can also listen the rolling stones\n",
            "Support: 0.011466666666666667\n",
            "Confidence: 0.5910652920962199\n",
            "Lift: 3.3230807276773984\n",
            "=====================================\n",
            "Rule: With coldplay you can also listen death cab for cutie\n",
            "Support: 0.010866666666666667\n",
            "Confidence: 0.5884476534296029\n",
            "Lift: 3.711822876973946\n",
            "=====================================\n",
            "Rule: With foo fighters you can also listen coldplay\n",
            "Support: 0.010733333333333333\n",
            "Confidence: 0.4535211267605634\n",
            "Lift: 3.808968029903948\n",
            "=====================================\n",
            "Rule: With coldplay you can also listen franz ferdinand\n",
            "Support: 0.0106\n",
            "Confidence: 0.4922600619195046\n",
            "Lift: 5.012831587774996\n",
            "=====================================\n",
            "Rule: With muse you can also listen coldplay\n",
            "Support: 0.0112\n",
            "Confidence: 0.47323943661971835\n",
            "Lift: 4.148796931207349\n",
            "=====================================\n",
            "Rule: With muse you can also listen coldplay\n",
            "Support: 0.015133333333333334\n",
            "Confidence: 0.5089686098654709\n",
            "Lift: 3.2104832413717674\n",
            "=====================================\n",
            "Rule: With coldplay you can also listen nirvana\n",
            "Support: 0.0104\n",
            "Confidence: 0.4444444444444444\n",
            "Lift: 3.7327360955580438\n",
            "=====================================\n",
            "Rule: With coldplay you can also listen radiohead\n",
            "Support: 0.012733333333333333\n",
            "Confidence: 0.5876923076923076\n",
            "Lift: 3.7070582907420584\n",
            "=====================================\n",
            "Rule: With coldplay you can also listen the beatles\n",
            "Support: 0.0106\n",
            "Confidence: 0.5196078431372548\n",
            "Lift: 3.277593627863256\n",
            "=====================================\n",
            "Rule: With coldplay you can also listen oasis\n",
            "Support: 0.011133333333333334\n",
            "Confidence: 0.42710997442455245\n",
            "Lift: 4.349388741594221\n",
            "=====================================\n",
            "Rule: With sigur rós you can also listen coldplay\n",
            "Support: 0.012066666666666667\n",
            "Confidence: 0.5801282051282052\n",
            "Lift: 3.2181668183887124\n",
            "=====================================\n",
            "Rule: With snow patrol you can also listen coldplay\n",
            "Support: 0.010066666666666666\n",
            "Confidence: 0.634453781512605\n",
            "Lift: 4.002021329978585\n",
            "=====================================\n",
            "Rule: With coldplay you can also listen radiohead\n",
            "Support: 0.015066666666666667\n",
            "Confidence: 0.5243619489559165\n",
            "Lift: 3.307581679705108\n",
            "=====================================\n",
            "Rule: With coldplay you can also listen radiohead\n",
            "Support: 0.010933333333333333\n",
            "Confidence: 0.628352490421456\n",
            "Lift: 3.4856831939060062\n",
            "=====================================\n",
            "Rule: With u2 you can also listen coldplay\n",
            "Support: 0.0114\n",
            "Confidence: 0.5213414634146342\n",
            "Lift: 3.288528995466574\n",
            "=====================================\n",
            "Rule: With coldplay you can also listen the killers\n",
            "Support: 0.010866666666666667\n",
            "Confidence: 0.509375\n",
            "Lift: 3.213046677880572\n",
            "=====================================\n",
            "Rule: With snow patrol you can also listen coldplay\n",
            "Support: 0.0104\n",
            "Confidence: 0.5954198473282443\n",
            "Lift: 3.7558022329367806\n",
            "=====================================\n",
            "Rule: With coldplay you can also listen the beatles\n",
            "Support: 0.012533333333333334\n",
            "Confidence: 0.5340909090909091\n",
            "Lift: 3.368950225552412\n",
            "=====================================\n",
            "Rule: With pink floyd you can also listen the beatles\n",
            "Support: 0.010066666666666666\n",
            "Confidence: 0.5741444866920151\n",
            "Lift: 3.2279487632609545\n",
            "=====================================\n",
            "Rule: With the rolling stones you can also listen the beatles\n",
            "Support: 0.01\n",
            "Confidence: 0.5703422053231939\n",
            "Lift: 3.206571619133399\n",
            "=====================================\n",
            "Rule: With radiohead you can also listen the shins\n",
            "Support: 0.010066666666666666\n",
            "Confidence: 0.4441176470588235\n",
            "Lift: 5.46046287367406\n",
            "=====================================\n",
            "Rule: With led zeppelin you can also listen pink floyd\n",
            "Support: 0.0112\n",
            "Confidence: 0.4528301886792453\n",
            "Lift: 4.315408405456594\n",
            "=====================================\n",
            "Rule: With led zeppelin you can also listen pink floyd\n",
            "Support: 0.0156\n",
            "Confidence: 0.46613545816733065\n",
            "Lift: 4.442205763983456\n",
            "=====================================\n",
            "Rule: With led zeppelin you can also listen pink floyd\n",
            "Support: 0.010666666666666666\n",
            "Confidence: 0.5970149253731343\n",
            "Lift: 5.689468793263668\n",
            "=====================================\n",
            "Rule: With led zeppelin you can also listen the beatles\n",
            "Support: 0.010666666666666666\n",
            "Confidence: 0.5776173285198556\n",
            "Lift: 3.2474737360561594\n",
            "=====================================\n",
            "Rule: With red hot chili peppers you can also listen nirvana\n",
            "Support: 0.0104\n",
            "Confidence: 0.41160949868073876\n",
            "Lift: 3.4569666742503253\n",
            "=====================================\n",
            "Rule: With muse you can also listen radiohead\n",
            "Support: 0.013666666666666667\n",
            "Confidence: 0.5137844611528822\n",
            "Lift: 4.504247175507443\n",
            "=====================================\n",
            "Rule: With muse you can also listen radiohead\n",
            "Support: 0.0128\n",
            "Confidence: 0.4454756380510441\n",
            "Lift: 3.905397177536915\n",
            "=====================================\n",
            "Rule: With pink floyd you can also listen the beatles\n",
            "Support: 0.01\n",
            "Confidence: 0.42735042735042733\n",
            "Lift: 4.072589841331899\n",
            "=====================================\n",
            "Rule: With sigur rós you can also listen the beatles\n",
            "Support: 0.010466666666666668\n",
            "Confidence: 0.6434426229508198\n",
            "Lift: 3.5693932486177133\n",
            "=====================================\n",
            "Rule: With the rolling stones you can also listen the beatles\n",
            "Support: 0.0106\n",
            "Confidence: 0.5638297872340425\n",
            "Lift: 3.169957574404287\n",
            "=====================================\n",
            "Rule: With the shins you can also listen the beatles\n",
            "Support: 0.010666666666666666\n",
            "Confidence: 0.5673758865248226\n",
            "Lift: 3.1474254060178772\n",
            "=====================================\n",
            "Rule: With the beatles you can also listen radiohead\n",
            "Support: 0.011466666666666667\n",
            "Confidence: 0.6209386281588448\n",
            "Lift: 3.444555999401876\n",
            "=====================================\n",
            "Rule: With the beatles you can also listen radiohead\n",
            "Support: 0.010466666666666668\n",
            "Confidence: 0.5607142857142857\n",
            "Lift: 3.1104712595097213\n",
            "=====================================\n"
          ],
          "name": "stdout"
        }
      ]
    },
    {
      "cell_type": "code",
      "metadata": {
        "id": "b2XVD6ZpAQJA"
      },
      "source": [
        ""
      ],
      "execution_count": 20,
      "outputs": []
    }
  ]
}