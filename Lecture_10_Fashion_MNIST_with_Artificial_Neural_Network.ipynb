{
  "nbformat": 4,
  "nbformat_minor": 0,
  "metadata": {
    "accelerator": "GPU",
    "colab": {
      "name": "Lecture_10_Fashion_MNIST_with Artificial Neural Network.ipynb",
      "provenance": [],
      "collapsed_sections": [],
      "authorship_tag": "ABX9TyOW6g7KfJfg0EuSa58eyBp3",
      "include_colab_link": true
    },
    "kernelspec": {
      "display_name": "Python 3",
      "name": "python3"
    },
    "language_info": {
      "name": "python"
    }
  },
  "cells": [
    {
      "cell_type": "markdown",
      "metadata": {
        "id": "view-in-github",
        "colab_type": "text"
      },
      "source": [
        "<a href=\"https://colab.research.google.com/github/ashishpatel26/Ganpat-University-Data-Science/blob/main/Lecture_10_Fashion_MNIST_with_Artificial_Neural_Network.ipynb\" target=\"_parent\"><img src=\"https://colab.research.google.com/assets/colab-badge.svg\" alt=\"Open In Colab\"/></a>"
      ]
    },
    {
      "cell_type": "markdown",
      "metadata": {
        "id": "fnFyKRtrQoCr"
      },
      "source": [
        "### 1.Load Libraries"
      ]
    },
    {
      "cell_type": "code",
      "metadata": {
        "id": "iSHBSF0ENd9G"
      },
      "source": [
        "import tensorflow as tf\n",
        "\n",
        "import numpy as np\n",
        "import matplotlib.pyplot as plt\n",
        "import seaborn as sns\n",
        "\n",
        "%matplotlib inline\n",
        "\n",
        "import warnings\n",
        "warnings.filterwarnings('ignore')"
      ],
      "execution_count": 62,
      "outputs": []
    },
    {
      "cell_type": "code",
      "metadata": {
        "colab": {
          "base_uri": "https://localhost:8080/"
        },
        "id": "d6QKwe9qkNbZ",
        "outputId": "22c3464a-3631-44e3-ba7c-79ed8d8536b5"
      },
      "source": [
        "print(tf.__version__)"
      ],
      "execution_count": 14,
      "outputs": [
        {
          "output_type": "stream",
          "text": [
            "2.4.1\n"
          ],
          "name": "stdout"
        }
      ]
    },
    {
      "cell_type": "markdown",
      "metadata": {
        "id": "-6AYYw5moMNq"
      },
      "source": [
        "### 2.Load Dataset"
      ]
    },
    {
      "cell_type": "code",
      "metadata": {
        "colab": {
          "base_uri": "https://localhost:8080/"
        },
        "id": "KULqHiJLuKMv",
        "outputId": "b80a12fb-26ed-45a4-cab4-131cd115e423"
      },
      "source": [
        "!nvidia-smi -L"
      ],
      "execution_count": 15,
      "outputs": [
        {
          "output_type": "stream",
          "text": [
            "GPU 0: Tesla T4 (UUID: GPU-11ab71ab-ddce-8f92-f886-8d833fabf27a)\n"
          ],
          "name": "stdout"
        }
      ]
    },
    {
      "cell_type": "code",
      "metadata": {
        "id": "5PqTfn1XkXPo"
      },
      "source": [
        "fashion_mnist = tf.keras.datasets.fashion_mnist"
      ],
      "execution_count": 16,
      "outputs": []
    },
    {
      "cell_type": "markdown",
      "metadata": {
        "id": "S0OcIE6JoNzc"
      },
      "source": [
        "### 3.Extract train and test data from fashionMNIST"
      ]
    },
    {
      "cell_type": "code",
      "metadata": {
        "colab": {
          "base_uri": "https://localhost:8080/"
        },
        "id": "vbc8cleokwkT",
        "outputId": "dd3293cd-28d8-4368-b052-f56c841b09a2"
      },
      "source": [
        "(x_train, y_train), (x_test, y_test) = fashion_mnist.load_data()\n",
        "\n",
        "for i in [x_train, y_train, x_test, y_test]:\n",
        "  print(f\"{i.shape}\")"
      ],
      "execution_count": 17,
      "outputs": [
        {
          "output_type": "stream",
          "text": [
            "(60000, 28, 28)\n",
            "(60000,)\n",
            "(10000, 28, 28)\n",
            "(10000,)\n"
          ],
          "name": "stdout"
        }
      ]
    },
    {
      "cell_type": "markdown",
      "metadata": {
        "id": "Mae81Yk-oSwX"
      },
      "source": [
        "### 4.Define the class as per target variable"
      ]
    },
    {
      "cell_type": "code",
      "metadata": {
        "id": "K129lmi5lXqe"
      },
      "source": [
        "class_names  = ['T-shirt/top','Trouser','Pullover','Dress','Coat','Sandal','Shirt','Sneaker','Bag','Ankle boot']"
      ],
      "execution_count": 18,
      "outputs": []
    },
    {
      "cell_type": "markdown",
      "metadata": {
        "id": "O29JDBcDoW-g"
      },
      "source": [
        "### 5.Data Visualization"
      ]
    },
    {
      "cell_type": "code",
      "metadata": {
        "colab": {
          "base_uri": "https://localhost:8080/",
          "height": 309
        },
        "id": "EAMkj4oylqkR",
        "outputId": "22eb6a3a-2ede-45d0-b641-46f0f1fa6538"
      },
      "source": [
        "plt.figure(figsize=(5,5))\n",
        "plt.imshow(x_train[0])\n",
        "plt.colorbar()\n",
        "plt.grid(False)\n",
        "plt.show()"
      ],
      "execution_count": 19,
      "outputs": [
        {
          "output_type": "display_data",
          "data": {
            "image/png": "[encoded data removed]",
            "text/plain": [
              "<Figure size 360x360 with 2 Axes>"
            ]
          },
          "metadata": {
            "tags": [],
            "needs_background": "light"
          }
        }
      ]
    },
    {
      "cell_type": "code",
      "metadata": {
        "colab": {
          "base_uri": "https://localhost:8080/",
          "height": 589
        },
        "id": "gXmY1CiJm1IK",
        "outputId": "d28ec1e1-27a1-4597-8006-93a5d2e076ab"
      },
      "source": [
        "plt.figure(figsize=(10,10))\n",
        "for i in range(25):\n",
        "  plt.subplot(5,5, i+1)\n",
        "  plt.xticks([])\n",
        "  plt.yticks([])\n",
        "  plt.grid(False)\n",
        "  plt.imshow(x_train[i], cmap=plt.cm.binary)\n",
        "  plt.xlabel(class_names[y_train[i]])\n",
        "plt.show()"
      ],
      "execution_count": 20,
      "outputs": [
        {
          "output_type": "display_data",
          "data": {
            "image/png": "[encoded data removed]",
            "text/plain": [
              "<Figure size 720x720 with 25 Axes>"
            ]
          },
          "metadata": {
            "tags": []
          }
        }
      ]
    },
    {
      "cell_type": "markdown",
      "metadata": {
        "id": "qcDbnm0Ooa8n"
      },
      "source": [
        "### 6. Define the Neural Network"
      ]
    },
    {
      "cell_type": "code",
      "metadata": {
        "id": "ivsFwRyym1qy"
      },
      "source": [
        "model = tf.keras.Sequential()\n",
        "# Input Layer\n",
        "model.add(tf.keras.layers.Flatten(input_shape = x_train[0].shape))\n",
        "# Hidden Layer\n",
        "model.add(tf.keras.layers.Dense(128, activation='relu'))\n",
        "# Output Layer\n",
        "model.add(tf.keras.layers.Dense(len(class_names), activation='softmax'))"
      ],
      "execution_count": 21,
      "outputs": []
    },
    {
      "cell_type": "markdown",
      "metadata": {
        "id": "lpiuYxUV0UAN"
      },
      "source": [
        "### 7. Model BackPropagation"
      ]
    },
    {
      "cell_type": "code",
      "metadata": {
        "id": "uPb2VSWypQzh"
      },
      "source": [
        "# backward propagation\n",
        "model.compile(optimizer='adam', # optimiser\n",
        "              loss = tf.keras.losses.SparseCategoricalCrossentropy(from_logits=True), # cost function\n",
        "              metrics = ['accuracy']\n",
        "              )"
      ],
      "execution_count": 22,
      "outputs": []
    },
    {
      "cell_type": "markdown",
      "metadata": {
        "id": "74CNDJIi0Y-j"
      },
      "source": [
        "### 8.Model Summary"
      ]
    },
    {
      "cell_type": "code",
      "metadata": {
        "colab": {
          "base_uri": "https://localhost:8080/"
        },
        "id": "zDaO_88LrwGr",
        "outputId": "3bf11be3-8ef6-4bd0-cb78-d10c4325868e"
      },
      "source": [
        "model.summary()"
      ],
      "execution_count": 23,
      "outputs": [
        {
          "output_type": "stream",
          "text": [
            "Model: \"sequential_1\"\n",
            "_________________________________________________________________\n",
            "Layer (type)                 Output Shape              Param #   \n",
            "=================================================================\n",
            "flatten_1 (Flatten)          (None, 784)               0         \n",
            "_________________________________________________________________\n",
            "dense_2 (Dense)              (None, 128)               100480    \n",
            "_________________________________________________________________\n",
            "dense_3 (Dense)              (None, 10)                1290      \n",
            "=================================================================\n",
            "Total params: 101,770\n",
            "Trainable params: 101,770\n",
            "Non-trainable params: 0\n",
            "_________________________________________________________________\n"
          ],
          "name": "stdout"
        }
      ]
    },
    {
      "cell_type": "markdown",
      "metadata": {
        "id": "M31D6Wpw0ccL"
      },
      "source": [
        "### 9.Model Training"
      ]
    },
    {
      "cell_type": "code",
      "metadata": {
        "colab": {
          "base_uri": "https://localhost:8080/"
        },
        "id": "myws_DZRsViz",
        "outputId": "31924e02-7c19-40cb-bce7-7a2a27e9b3f9"
      },
      "source": [
        "model.fit(x = x_train,\n",
        "          y = y_train,\n",
        "          batch_size = 32,\n",
        "          epochs = 30,\n",
        "          validation_data = (x_test, y_test),\n",
        "          verbose=1)"
      ],
      "execution_count": 24,
      "outputs": [
        {
          "output_type": "stream",
          "text": [
            "Epoch 1/30\n",
            "1875/1875 [==============================] - 7s 2ms/step - loss: 9.6490 - accuracy: 0.6818 - val_loss: 0.7861 - val_accuracy: 0.7075\n",
            "Epoch 2/30\n",
            "1875/1875 [==============================] - 4s 2ms/step - loss: 0.7003 - accuracy: 0.7309 - val_loss: 0.7666 - val_accuracy: 0.7434\n",
            "Epoch 3/30\n",
            "1875/1875 [==============================] - 3s 2ms/step - loss: 0.6320 - accuracy: 0.7638 - val_loss: 0.6238 - val_accuracy: 0.7814\n",
            "Epoch 4/30\n",
            "1875/1875 [==============================] - 4s 2ms/step - loss: 0.5887 - accuracy: 0.7794 - val_loss: 0.6234 - val_accuracy: 0.7708\n",
            "Epoch 5/30\n",
            "1875/1875 [==============================] - 4s 2ms/step - loss: 0.5576 - accuracy: 0.7955 - val_loss: 0.5508 - val_accuracy: 0.8102\n",
            "Epoch 6/30\n",
            "1875/1875 [==============================] - 4s 2ms/step - loss: 0.5204 - accuracy: 0.8171 - val_loss: 0.6191 - val_accuracy: 0.7698\n",
            "Epoch 7/30\n",
            "1875/1875 [==============================] - 4s 2ms/step - loss: 0.5047 - accuracy: 0.8257 - val_loss: 0.5551 - val_accuracy: 0.8136\n",
            "Epoch 8/30\n",
            "1875/1875 [==============================] - 4s 2ms/step - loss: 0.4924 - accuracy: 0.8287 - val_loss: 0.5627 - val_accuracy: 0.8287\n",
            "Epoch 9/30\n",
            "1875/1875 [==============================] - 4s 2ms/step - loss: 0.4960 - accuracy: 0.8294 - val_loss: 0.5345 - val_accuracy: 0.8220\n",
            "Epoch 10/30\n",
            "1875/1875 [==============================] - 4s 2ms/step - loss: 0.4814 - accuracy: 0.8325 - val_loss: 0.5449 - val_accuracy: 0.8229\n",
            "Epoch 11/30\n",
            "1875/1875 [==============================] - 4s 2ms/step - loss: 0.4800 - accuracy: 0.8337 - val_loss: 0.5341 - val_accuracy: 0.8260\n",
            "Epoch 12/30\n",
            "1875/1875 [==============================] - 4s 2ms/step - loss: 0.4690 - accuracy: 0.8391 - val_loss: 0.5477 - val_accuracy: 0.8171\n",
            "Epoch 13/30\n",
            "1875/1875 [==============================] - 4s 2ms/step - loss: 0.4795 - accuracy: 0.8368 - val_loss: 0.5493 - val_accuracy: 0.8339\n",
            "Epoch 14/30\n",
            "1875/1875 [==============================] - 4s 2ms/step - loss: 0.4740 - accuracy: 0.8402 - val_loss: 0.5475 - val_accuracy: 0.8256\n",
            "Epoch 15/30\n",
            "1875/1875 [==============================] - 4s 2ms/step - loss: 0.4602 - accuracy: 0.8422 - val_loss: 0.5617 - val_accuracy: 0.8303\n",
            "Epoch 16/30\n",
            "1875/1875 [==============================] - 4s 2ms/step - loss: 0.4664 - accuracy: 0.8396 - val_loss: 0.5453 - val_accuracy: 0.8155\n",
            "Epoch 17/30\n",
            "1875/1875 [==============================] - 4s 2ms/step - loss: 0.4651 - accuracy: 0.8424 - val_loss: 0.5872 - val_accuracy: 0.8209\n",
            "Epoch 18/30\n",
            "1875/1875 [==============================] - 4s 2ms/step - loss: 0.4666 - accuracy: 0.8434 - val_loss: 0.5883 - val_accuracy: 0.8256\n",
            "Epoch 19/30\n",
            "1875/1875 [==============================] - 4s 2ms/step - loss: 0.4624 - accuracy: 0.8425 - val_loss: 0.6286 - val_accuracy: 0.8049\n",
            "Epoch 20/30\n",
            "1875/1875 [==============================] - 4s 2ms/step - loss: 0.4527 - accuracy: 0.8442 - val_loss: 0.5297 - val_accuracy: 0.8370\n",
            "Epoch 21/30\n",
            "1875/1875 [==============================] - 4s 2ms/step - loss: 0.4477 - accuracy: 0.8472 - val_loss: 0.6051 - val_accuracy: 0.8302\n",
            "Epoch 22/30\n",
            "1875/1875 [==============================] - 4s 2ms/step - loss: 0.4509 - accuracy: 0.8451 - val_loss: 0.5945 - val_accuracy: 0.8112\n",
            "Epoch 23/30\n",
            "1875/1875 [==============================] - 4s 2ms/step - loss: 0.4641 - accuracy: 0.8451 - val_loss: 0.5833 - val_accuracy: 0.8226\n",
            "Epoch 24/30\n",
            "1875/1875 [==============================] - 4s 2ms/step - loss: 0.4523 - accuracy: 0.8438 - val_loss: 0.6161 - val_accuracy: 0.7866\n",
            "Epoch 25/30\n",
            "1875/1875 [==============================] - 4s 2ms/step - loss: 0.4438 - accuracy: 0.8476 - val_loss: 0.6222 - val_accuracy: 0.7992\n",
            "Epoch 26/30\n",
            "1875/1875 [==============================] - 4s 2ms/step - loss: 0.4530 - accuracy: 0.8480 - val_loss: 0.5769 - val_accuracy: 0.8203\n",
            "Epoch 27/30\n",
            "1875/1875 [==============================] - 4s 2ms/step - loss: 0.4474 - accuracy: 0.8489 - val_loss: 0.5560 - val_accuracy: 0.8351\n",
            "Epoch 28/30\n",
            "1875/1875 [==============================] - 4s 2ms/step - loss: 0.4366 - accuracy: 0.8540 - val_loss: 0.5691 - val_accuracy: 0.8232\n",
            "Epoch 29/30\n",
            "1875/1875 [==============================] - 4s 2ms/step - loss: 0.4527 - accuracy: 0.8492 - val_loss: 0.5620 - val_accuracy: 0.8306\n",
            "Epoch 30/30\n",
            "1875/1875 [==============================] - 4s 2ms/step - loss: 0.4495 - accuracy: 0.8474 - val_loss: 0.5553 - val_accuracy: 0.8355\n"
          ],
          "name": "stdout"
        },
        {
          "output_type": "execute_result",
          "data": {
            "text/plain": [
              "<tensorflow.python.keras.callbacks.History at 0x7fab0e199410>"
            ]
          },
          "metadata": {
            "tags": []
          },
          "execution_count": 24
        }
      ]
    },
    {
      "cell_type": "markdown",
      "metadata": {
        "id": "J6kczRTe0fK6"
      },
      "source": [
        "### 10.Training Result Evaluation"
      ]
    },
    {
      "cell_type": "code",
      "metadata": {
        "colab": {
          "base_uri": "https://localhost:8080/",
          "height": 935
        },
        "id": "LgGoD0XavhF-",
        "outputId": "7847d992-897e-422a-b65d-0b44834f0b4f"
      },
      "source": [
        "import pandas as pd\n",
        "pd.DataFrame(model.history.history)"
      ],
      "execution_count": 25,
      "outputs": [
        {
          "output_type": "execute_result",
          "data": {
            "text/html": [
              "<div>\n",
              "<style scoped>\n",
              "    .dataframe tbody tr th:only-of-type {\n",
              "        vertical-align: middle;\n",
              "    }\n",
              "\n",
              "    .dataframe tbody tr th {\n",
              "        vertical-align: top;\n",
              "    }\n",
              "\n",
              "    .dataframe thead th {\n",
              "        text-align: right;\n",
              "    }\n",
              "</style>\n",
              "<table border=\"1\" class=\"dataframe\">\n",
              "  <thead>\n",
              "    <tr style=\"text-align: right;\">\n",
              "      <th></th>\n",
              "      <th>loss</th>\n",
              "      <th>accuracy</th>\n",
              "      <th>val_loss</th>\n",
              "      <th>val_accuracy</th>\n",
              "    </tr>\n",
              "  </thead>\n",
              "  <tbody>\n",
              "    <tr>\n",
              "      <th>0</th>\n",
              "      <td>3.492824</td>\n",
              "      <td>0.696833</td>\n",
              "      <td>0.786073</td>\n",
              "      <td>0.7075</td>\n",
              "    </tr>\n",
              "    <tr>\n",
              "      <th>1</th>\n",
              "      <td>0.675246</td>\n",
              "      <td>0.739733</td>\n",
              "      <td>0.766582</td>\n",
              "      <td>0.7434</td>\n",
              "    </tr>\n",
              "    <tr>\n",
              "      <th>2</th>\n",
              "      <td>0.627480</td>\n",
              "      <td>0.767717</td>\n",
              "      <td>0.623835</td>\n",
              "      <td>0.7814</td>\n",
              "    </tr>\n",
              "    <tr>\n",
              "      <th>3</th>\n",
              "      <td>0.585166</td>\n",
              "      <td>0.783117</td>\n",
              "      <td>0.623419</td>\n",
              "      <td>0.7708</td>\n",
              "    </tr>\n",
              "    <tr>\n",
              "      <th>4</th>\n",
              "      <td>0.555110</td>\n",
              "      <td>0.802567</td>\n",
              "      <td>0.550765</td>\n",
              "      <td>0.8102</td>\n",
              "    </tr>\n",
              "    <tr>\n",
              "      <th>5</th>\n",
              "      <td>0.520853</td>\n",
              "      <td>0.819767</td>\n",
              "      <td>0.619057</td>\n",
              "      <td>0.7698</td>\n",
              "    </tr>\n",
              "    <tr>\n",
              "      <th>6</th>\n",
              "      <td>0.508791</td>\n",
              "      <td>0.824850</td>\n",
              "      <td>0.555051</td>\n",
              "      <td>0.8136</td>\n",
              "    </tr>\n",
              "    <tr>\n",
              "      <th>7</th>\n",
              "      <td>0.499049</td>\n",
              "      <td>0.826817</td>\n",
              "      <td>0.562730</td>\n",
              "      <td>0.8287</td>\n",
              "    </tr>\n",
              "    <tr>\n",
              "      <th>8</th>\n",
              "      <td>0.495507</td>\n",
              "      <td>0.830183</td>\n",
              "      <td>0.534465</td>\n",
              "      <td>0.8220</td>\n",
              "    </tr>\n",
              "    <tr>\n",
              "      <th>9</th>\n",
              "      <td>0.488957</td>\n",
              "      <td>0.832450</td>\n",
              "      <td>0.544936</td>\n",
              "      <td>0.8229</td>\n",
              "    </tr>\n",
              "    <tr>\n",
              "      <th>10</th>\n",
              "      <td>0.485003</td>\n",
              "      <td>0.834417</td>\n",
              "      <td>0.534107</td>\n",
              "      <td>0.8260</td>\n",
              "    </tr>\n",
              "    <tr>\n",
              "      <th>11</th>\n",
              "      <td>0.478502</td>\n",
              "      <td>0.836383</td>\n",
              "      <td>0.547736</td>\n",
              "      <td>0.8171</td>\n",
              "    </tr>\n",
              "    <tr>\n",
              "      <th>12</th>\n",
              "      <td>0.480412</td>\n",
              "      <td>0.837250</td>\n",
              "      <td>0.549328</td>\n",
              "      <td>0.8339</td>\n",
              "    </tr>\n",
              "    <tr>\n",
              "      <th>13</th>\n",
              "      <td>0.477072</td>\n",
              "      <td>0.839333</td>\n",
              "      <td>0.547527</td>\n",
              "      <td>0.8256</td>\n",
              "    </tr>\n",
              "    <tr>\n",
              "      <th>14</th>\n",
              "      <td>0.465390</td>\n",
              "      <td>0.841617</td>\n",
              "      <td>0.561724</td>\n",
              "      <td>0.8303</td>\n",
              "    </tr>\n",
              "    <tr>\n",
              "      <th>15</th>\n",
              "      <td>0.466336</td>\n",
              "      <td>0.841200</td>\n",
              "      <td>0.545276</td>\n",
              "      <td>0.8155</td>\n",
              "    </tr>\n",
              "    <tr>\n",
              "      <th>16</th>\n",
              "      <td>0.466470</td>\n",
              "      <td>0.843250</td>\n",
              "      <td>0.587182</td>\n",
              "      <td>0.8209</td>\n",
              "    </tr>\n",
              "    <tr>\n",
              "      <th>17</th>\n",
              "      <td>0.466780</td>\n",
              "      <td>0.842517</td>\n",
              "      <td>0.588301</td>\n",
              "      <td>0.8256</td>\n",
              "    </tr>\n",
              "    <tr>\n",
              "      <th>18</th>\n",
              "      <td>0.465046</td>\n",
              "      <td>0.842417</td>\n",
              "      <td>0.628564</td>\n",
              "      <td>0.8049</td>\n",
              "    </tr>\n",
              "    <tr>\n",
              "      <th>19</th>\n",
              "      <td>0.459574</td>\n",
              "      <td>0.843950</td>\n",
              "      <td>0.529716</td>\n",
              "      <td>0.8370</td>\n",
              "    </tr>\n",
              "    <tr>\n",
              "      <th>20</th>\n",
              "      <td>0.458771</td>\n",
              "      <td>0.843883</td>\n",
              "      <td>0.605062</td>\n",
              "      <td>0.8302</td>\n",
              "    </tr>\n",
              "    <tr>\n",
              "      <th>21</th>\n",
              "      <td>0.455161</td>\n",
              "      <td>0.844217</td>\n",
              "      <td>0.594483</td>\n",
              "      <td>0.8112</td>\n",
              "    </tr>\n",
              "    <tr>\n",
              "      <th>22</th>\n",
              "      <td>0.465119</td>\n",
              "      <td>0.844700</td>\n",
              "      <td>0.583254</td>\n",
              "      <td>0.8226</td>\n",
              "    </tr>\n",
              "    <tr>\n",
              "      <th>23</th>\n",
              "      <td>0.459542</td>\n",
              "      <td>0.844017</td>\n",
              "      <td>0.616117</td>\n",
              "      <td>0.7866</td>\n",
              "    </tr>\n",
              "    <tr>\n",
              "      <th>24</th>\n",
              "      <td>0.450645</td>\n",
              "      <td>0.846867</td>\n",
              "      <td>0.622232</td>\n",
              "      <td>0.7992</td>\n",
              "    </tr>\n",
              "    <tr>\n",
              "      <th>25</th>\n",
              "      <td>0.458393</td>\n",
              "      <td>0.846450</td>\n",
              "      <td>0.576934</td>\n",
              "      <td>0.8203</td>\n",
              "    </tr>\n",
              "    <tr>\n",
              "      <th>26</th>\n",
              "      <td>0.452312</td>\n",
              "      <td>0.846767</td>\n",
              "      <td>0.556013</td>\n",
              "      <td>0.8351</td>\n",
              "    </tr>\n",
              "    <tr>\n",
              "      <th>27</th>\n",
              "      <td>0.457107</td>\n",
              "      <td>0.847617</td>\n",
              "      <td>0.569131</td>\n",
              "      <td>0.8232</td>\n",
              "    </tr>\n",
              "    <tr>\n",
              "      <th>28</th>\n",
              "      <td>0.450732</td>\n",
              "      <td>0.849317</td>\n",
              "      <td>0.562011</td>\n",
              "      <td>0.8306</td>\n",
              "    </tr>\n",
              "    <tr>\n",
              "      <th>29</th>\n",
              "      <td>0.449447</td>\n",
              "      <td>0.849783</td>\n",
              "      <td>0.555303</td>\n",
              "      <td>0.8355</td>\n",
              "    </tr>\n",
              "  </tbody>\n",
              "</table>\n",
              "</div>"
            ],
            "text/plain": [
              "        loss  accuracy  val_loss  val_accuracy\n",
              "0   3.492824  0.696833  0.786073        0.7075\n",
              "1   0.675246  0.739733  0.766582        0.7434\n",
              "2   0.627480  0.767717  0.623835        0.7814\n",
              "3   0.585166  0.783117  0.623419        0.7708\n",
              "4   0.555110  0.802567  0.550765        0.8102\n",
              "5   0.520853  0.819767  0.619057        0.7698\n",
              "6   0.508791  0.824850  0.555051        0.8136\n",
              "7   0.499049  0.826817  0.562730        0.8287\n",
              "8   0.495507  0.830183  0.534465        0.8220\n",
              "9   0.488957  0.832450  0.544936        0.8229\n",
              "10  0.485003  0.834417  0.534107        0.8260\n",
              "11  0.478502  0.836383  0.547736        0.8171\n",
              "12  0.480412  0.837250  0.549328        0.8339\n",
              "13  0.477072  0.839333  0.547527        0.8256\n",
              "14  0.465390  0.841617  0.561724        0.8303\n",
              "15  0.466336  0.841200  0.545276        0.8155\n",
              "16  0.466470  0.843250  0.587182        0.8209\n",
              "17  0.466780  0.842517  0.588301        0.8256\n",
              "18  0.465046  0.842417  0.628564        0.8049\n",
              "19  0.459574  0.843950  0.529716        0.8370\n",
              "20  0.458771  0.843883  0.605062        0.8302\n",
              "21  0.455161  0.844217  0.594483        0.8112\n",
              "22  0.465119  0.844700  0.583254        0.8226\n",
              "23  0.459542  0.844017  0.616117        0.7866\n",
              "24  0.450645  0.846867  0.622232        0.7992\n",
              "25  0.458393  0.846450  0.576934        0.8203\n",
              "26  0.452312  0.846767  0.556013        0.8351\n",
              "27  0.457107  0.847617  0.569131        0.8232\n",
              "28  0.450732  0.849317  0.562011        0.8306\n",
              "29  0.449447  0.849783  0.555303        0.8355"
            ]
          },
          "metadata": {
            "tags": []
          },
          "execution_count": 25
        }
      ]
    },
    {
      "cell_type": "markdown",
      "metadata": {
        "id": "SiJyrZQu0jog"
      },
      "source": [
        "### 11. Accuracy and Loss Curve"
      ]
    },
    {
      "cell_type": "code",
      "metadata": {
        "id": "zRYTfgTDtlJC",
        "colab": {
          "base_uri": "https://localhost:8080/",
          "height": 573
        },
        "outputId": "ca4bce8f-f7cc-4118-ec63-a557126370d6"
      },
      "source": [
        "#  \"Accuracy\"\n",
        "plt.plot(model.history.history['accuracy'])\n",
        "plt.plot(model.history.history['val_accuracy'],color='red')\n",
        "plt.title('model accuracy')\n",
        "plt.ylabel('accuracy')\n",
        "plt.xlabel('epoch')\n",
        "plt.legend(['train', 'validation'], loc='upper left')\n",
        "plt.show()\n",
        "# \"Loss\"\n",
        "plt.plot(model.history.history['loss'])\n",
        "plt.plot(model.history.history['val_loss'],color='red')\n",
        "plt.title('model loss')\n",
        "plt.ylabel('loss')\n",
        "plt.xlabel('epoch')\n",
        "plt.legend(['train', 'validation'], loc='upper left')\n",
        "plt.show()"
      ],
      "execution_count": 29,
      "outputs": [
        {
          "output_type": "display_data",
          "data": {
            "image/png": "[encoded data removed]",
            "text/plain": [
              "<Figure size 432x288 with 1 Axes>"
            ]
          },
          "metadata": {
            "tags": [],
            "needs_background": "light"
          }
        },
        {
          "output_type": "display_data",
          "data": {
            "image/png": "[encoded data removed]",
            "text/plain": [
              "<Figure size 432x288 with 1 Axes>"
            ]
          },
          "metadata": {
            "tags": [],
            "needs_background": "light"
          }
        }
      ]
    },
    {
      "cell_type": "markdown",
      "metadata": {
        "id": "FaZmebV80nvZ"
      },
      "source": [
        "### 12.Model Evaluation"
      ]
    },
    {
      "cell_type": "code",
      "metadata": {
        "colab": {
          "base_uri": "https://localhost:8080/"
        },
        "id": "j_a16E7pvpx9",
        "outputId": "b93477b0-5d6c-4532-b9b8-c15b93a839a8"
      },
      "source": [
        "model.evaluate(x_test, y_test)"
      ],
      "execution_count": 30,
      "outputs": [
        {
          "output_type": "stream",
          "text": [
            "313/313 [==============================] - 1s 2ms/step - loss: 0.5553 - accuracy: 0.8355\n"
          ],
          "name": "stdout"
        },
        {
          "output_type": "execute_result",
          "data": {
            "text/plain": [
              "[0.5553030371665955, 0.8355000019073486]"
            ]
          },
          "metadata": {
            "tags": []
          },
          "execution_count": 30
        }
      ]
    },
    {
      "cell_type": "markdown",
      "metadata": {
        "id": "KhtcMN1m0pnB"
      },
      "source": [
        "### 13.Model Prediction"
      ]
    },
    {
      "cell_type": "code",
      "metadata": {
        "id": "3FUQTIh9wjbV"
      },
      "source": [
        "y_pred = model.predict(x_test)"
      ],
      "execution_count": 51,
      "outputs": []
    },
    {
      "cell_type": "code",
      "metadata": {
        "id": "Sw3LBR__wqUv"
      },
      "source": [
        "y_pred = np.argmax(y_pred, axis=1)"
      ],
      "execution_count": 52,
      "outputs": []
    },
    {
      "cell_type": "code",
      "metadata": {
        "id": "-v2ScTykw3GI"
      },
      "source": [
        "from sklearn.metrics import *"
      ],
      "execution_count": 53,
      "outputs": []
    },
    {
      "cell_type": "code",
      "metadata": {
        "colab": {
          "base_uri": "https://localhost:8080/"
        },
        "id": "Ke1mRoZrxqVb",
        "outputId": "9022927a-7003-48f1-8e1b-7ab878675695"
      },
      "source": [
        "y_test, y_pred"
      ],
      "execution_count": 54,
      "outputs": [
        {
          "output_type": "execute_result",
          "data": {
            "text/plain": [
              "(array([9, 2, 1, ..., 8, 1, 5], dtype=uint8), array([9, 4, 1, ..., 8, 1, 5]))"
            ]
          },
          "metadata": {
            "tags": []
          },
          "execution_count": 54
        }
      ]
    },
    {
      "cell_type": "markdown",
      "metadata": {
        "id": "Ui8C-F9p0r1D"
      },
      "source": [
        "### 14.Model Performance"
      ]
    },
    {
      "cell_type": "code",
      "metadata": {
        "colab": {
          "base_uri": "https://localhost:8080/"
        },
        "id": "TL1yHoelxf22",
        "outputId": "c785bf9b-afe3-400c-fa88-e9f4b4748815"
      },
      "source": [
        "print(\"Classification Report : \\n\",classification_report(y_test, y_pred))\n",
        "print(\"Accuracy :\", accuracy_score(y_test, y_pred) * 100)\n",
        "print(\"Cohen Kappa :\", cohen_kappa_score(y_test, y_pred))"
      ],
      "execution_count": 55,
      "outputs": [
        {
          "output_type": "stream",
          "text": [
            "Classification Report : \n",
            "               precision    recall  f1-score   support\n",
            "\n",
            "           0       0.75      0.85      0.80      1000\n",
            "           1       0.97      0.95      0.96      1000\n",
            "           2       0.64      0.72      0.68      1000\n",
            "           3       0.86      0.80      0.82      1000\n",
            "           4       0.64      0.87      0.74      1000\n",
            "           5       0.96      0.94      0.95      1000\n",
            "           6       0.75      0.41      0.53      1000\n",
            "           7       0.92      0.95      0.94      1000\n",
            "           8       0.96      0.93      0.95      1000\n",
            "           9       0.96      0.94      0.95      1000\n",
            "\n",
            "    accuracy                           0.84     10000\n",
            "   macro avg       0.84      0.84      0.83     10000\n",
            "weighted avg       0.84      0.84      0.83     10000\n",
            "\n",
            "Accuracy : 83.55\n",
            "Cohen Kappa : 0.8172222222222223\n"
          ],
          "name": "stdout"
        }
      ]
    },
    {
      "cell_type": "code",
      "metadata": {
        "id": "Yuv-W0SgyG9w"
      },
      "source": [
        "?confusion_matrix"
      ],
      "execution_count": 58,
      "outputs": []
    },
    {
      "cell_type": "code",
      "metadata": {
        "colab": {
          "base_uri": "https://localhost:8080/",
          "height": 797
        },
        "id": "WM0QEdnkxlNa",
        "outputId": "4ef67a55-6e72-4d9c-c6c9-17a1d40ec730"
      },
      "source": [
        "cm = confusion_matrix(y_test, y_pred)\n",
        "print(cm)\n",
        "plt.figure(figsize=(10,10))\n",
        "sns.heatmap(cm, annot = True, cmap=\"YlGnBu\")\n",
        "plt.xlabel(\"Predicte\")\n",
        "plt.xlabel(\"True\")\n",
        "plt.title(\"Confusion Matrix\")\n",
        "plt.show()"
      ],
      "execution_count": 65,
      "outputs": [
        {
          "output_type": "stream",
          "text": [
            "[[851   2  47  44   2   0  45   0   9   0]\n",
            " [  9 951   7  22   7   0   2   0   2   0]\n",
            " [ 17   2 718   8 237   0  17   0   1   0]\n",
            " [ 52  20  36 795  67   0  26   0   4   0]\n",
            " [  0   1  82  16 870   0  29   0   2   0]\n",
            " [  0   0   5   0   0 945   0  31   5  14]\n",
            " [198   1 181  40 163   0 405   0  12   0]\n",
            " [  0   0   0   0   0  21   0 950   1  28]\n",
            " [  1   0  38   3   7   3  16   1 931   0]\n",
            " [  0   0   1   0   0  12   0  48   0 939]]\n"
          ],
          "name": "stdout"
        },
        {
          "output_type": "display_data",
          "data": {
            "image/png": "[encoded data removed]",
            "text/plain": [
              "<Figure size 720x720 with 2 Axes>"
            ]
          },
          "metadata": {
            "tags": [],
            "needs_background": "light"
          }
        }
      ]
    },
    {
      "cell_type": "code",
      "metadata": {
        "colab": {
          "base_uri": "https://localhost:8080/"
        },
        "id": "BI-FfnofyktS",
        "outputId": "4882090d-fdd3-46a9-bf20-1c192cb85e60"
      },
      "source": [
        "!pip install pycm"
      ],
      "execution_count": 66,
      "outputs": [
        {
          "output_type": "stream",
          "text": [
            "Collecting pycm\n",
            "\u001b[?25l  Downloading https://files.pythonhosted.org/packages/76/c4/a05b90819dcf7e50bdddb030238a771bf87b0695e6c47a247f66ab7ed5d0/pycm-3.1-py2.py3-none-any.whl (63kB)\n",
            "\r\u001b[K     |█████▏                          | 10kB 21.8MB/s eta 0:00:01\r\u001b[K     |██████████▎                     | 20kB 16.1MB/s eta 0:00:01\r\u001b[K     |███████████████▍                | 30kB 14.2MB/s eta 0:00:01\r\u001b[K     |████████████████████▌           | 40kB 13.2MB/s eta 0:00:01\r\u001b[K     |█████████████████████████▊      | 51kB 7.7MB/s eta 0:00:01\r\u001b[K     |██████████████████████████████▉ | 61kB 7.4MB/s eta 0:00:01\r\u001b[K     |████████████████████████████████| 71kB 5.1MB/s \n",
            "\u001b[?25hRequirement already satisfied: numpy>=1.9.0 in /usr/local/lib/python3.7/dist-packages (from pycm) (1.19.5)\n",
            "Collecting art>=1.8\n",
            "\u001b[?25l  Downloading https://files.pythonhosted.org/packages/a1/74/55552eaad673dc81546d1386161e6cd8f7edf951690de82df822fe46541d/art-5.2-py2.py3-none-any.whl (571kB)\n",
            "\u001b[K     |████████████████████████████████| 573kB 10.6MB/s \n",
            "\u001b[?25hInstalling collected packages: art, pycm\n",
            "Successfully installed art-5.2 pycm-3.1\n"
          ],
          "name": "stdout"
        }
      ]
    },
    {
      "cell_type": "code",
      "metadata": {
        "id": "mba72g1YymEf"
      },
      "source": [
        "from pycm import *"
      ],
      "execution_count": 67,
      "outputs": []
    },
    {
      "cell_type": "code",
      "metadata": {
        "id": "044gpHU2ywZV"
      },
      "source": [
        "cm = ConfusionMatrix(actual_vector=y_test, predict_vector=y_pred)"
      ],
      "execution_count": 69,
      "outputs": []
    },
    {
      "cell_type": "code",
      "metadata": {
        "colab": {
          "base_uri": "https://localhost:8080/"
        },
        "id": "J6gFD7bmyzXJ",
        "outputId": "831ae3b7-9243-4109-a544-1efe6372d84a"
      },
      "source": [
        "cm.classes"
      ],
      "execution_count": 70,
      "outputs": [
        {
          "output_type": "execute_result",
          "data": {
            "text/plain": [
              "[0, 1, 2, 3, 4, 5, 6, 7, 8, 9]"
            ]
          },
          "metadata": {
            "tags": []
          },
          "execution_count": 70
        }
      ]
    },
    {
      "cell_type": "code",
      "metadata": {
        "colab": {
          "base_uri": "https://localhost:8080/"
        },
        "id": "Fg2oH9byy2z4",
        "outputId": "87fdf21f-0588-4d7d-b1eb-e45d587cf3e3"
      },
      "source": [
        "print(cm)"
      ],
      "execution_count": 71,
      "outputs": [
        {
          "output_type": "stream",
          "text": [
            "Predict   0         1         2         3         4         5         6         7         8         9         \n",
            "Actual\n",
            "0         851       2         47        44        2         0         45        0         9         0         \n",
            "\n",
            "1         9         951       7         22        7         0         2         0         2         0         \n",
            "\n",
            "2         17        2         718       8         237       0         17        0         1         0         \n",
            "\n",
            "3         52        20        36        795       67        0         26        0         4         0         \n",
            "\n",
            "4         0         1         82        16        870       0         29        0         2         0         \n",
            "\n",
            "5         0         0         5         0         0         945       0         31        5         14        \n",
            "\n",
            "6         198       1         181       40        163       0         405       0         12        0         \n",
            "\n",
            "7         0         0         0         0         0         21        0         950       1         28        \n",
            "\n",
            "8         1         0         38        3         7         3         16        1         931       0         \n",
            "\n",
            "9         0         0         1         0         0         12        0         48        0         939       \n",
            "\n",
            "\n",
            "\n",
            "\n",
            "\n",
            "Overall Statistics : \n",
            "\n",
            "95% CI                                                            (0.82823,0.84277)\n",
            "ACC Macro                                                         0.9671\n",
            "ARI                                                               0.69831\n",
            "AUNP                                                              0.90861\n",
            "AUNU                                                              0.90861\n",
            "Bangdiwala B                                                      0.72411\n",
            "Bennett S                                                         0.81722\n",
            "CBA                                                               0.79297\n",
            "CSI                                                               0.67821\n",
            "Chi-Squared                                                       63156.62714\n",
            "Chi-Squared DF                                                    81\n",
            "Conditional Entropy                                               0.80969\n",
            "Cramer V                                                          0.8377\n",
            "Cross Entropy                                                     3.35438\n",
            "F1 Macro                                                          0.83156\n",
            "F1 Micro                                                          0.8355\n",
            "FNR Macro                                                         0.1645\n",
            "FNR Micro                                                         0.1645\n",
            "FPR Macro                                                         0.01828\n",
            "FPR Micro                                                         0.01828\n",
            "Gwet AC1                                                          0.81724\n",
            "Hamming Loss                                                      0.1645\n",
            "Joint Entropy                                                     4.13162\n",
            "KL Divergence                                                     0.03245\n",
            "Kappa                                                             0.81722\n",
            "Kappa 95% CI                                                      (0.80915,0.8253)\n",
            "Kappa No Prevalence                                               0.671\n",
            "Kappa Standard Error                                              0.00412\n",
            "Kappa Unbiased                                                    0.81703\n",
            "Krippendorff Alpha                                                0.81704\n",
            "Lambda A                                                          0.81722\n",
            "Lambda B                                                          0.80976\n",
            "Mutual Information                                                2.48312\n",
            "NIR                                                               0.1\n",
            "Overall ACC                                                       0.8355\n",
            "Overall CEN                                                       0.18722\n",
            "Overall J                                                         (7.34401,0.7344)\n",
            "Overall MCC                                                       0.81893\n",
            "Overall MCEN                                                      0.27673\n",
            "Overall RACC                                                      0.1\n",
            "Overall RACCU                                                     0.10094\n",
            "P-Value                                                           None\n",
            "PPV Macro                                                         0.84271\n",
            "PPV Micro                                                         0.8355\n",
            "Pearson C                                                         0.92914\n",
            "Phi-Squared                                                       6.31566\n",
            "RCI                                                               0.74749\n",
            "RR                                                                1000.0\n",
            "Reference Entropy                                                 3.32193\n",
            "Response Entropy                                                  3.29281\n",
            "SOA1(Landis & Koch)                                               Almost Perfect\n",
            "SOA2(Fleiss)                                                      Excellent\n",
            "SOA3(Altman)                                                      Very Good\n",
            "SOA4(Cicchetti)                                                   Excellent\n",
            "SOA5(Cramer)                                                      Very Strong\n",
            "SOA6(Matthews)                                                    Strong\n",
            "Scott PI                                                          0.81703\n",
            "Standard Error                                                    0.00371\n",
            "TNR Macro                                                         0.98172\n",
            "TNR Micro                                                         0.98172\n",
            "TPR Macro                                                         0.8355\n",
            "TPR Micro                                                         0.8355\n",
            "Zero-one Loss                                                     1645\n",
            "\n",
            "Class Statistics :\n",
            "\n",
            "Classes                                                           0             1             2             3             4             5             6             7             8             9             \n",
            "ACC(Accuracy)                                                     0.9574        0.9925        0.9321        0.9662        0.9387        0.9909        0.927         0.987         0.9895        0.9897        \n",
            "AGF(Adjusted F-score)                                             0.90193       0.97503       0.8233        0.88862       0.89103       0.97119       0.64968       0.96873       0.96473       0.96778       \n",
            "AGM(Adjusted geometric mean)                                      0.9371        0.98483       0.88882       0.93248       0.92582       0.9824        0.799         0.98018       0.97861       0.98029       \n",
            "AM(Difference between automatic and manual classification)        128           -23           115           -72           353           -19           -460          30            -33           -19           \n",
            "AUC(Area under the ROC curve)                                     0.91011       0.97406       0.83694       0.89011       0.90817       0.9705        0.695         0.97056       0.9635        0.96717       \n",
            "AUCI(AUC value interpretation)                                    Excellent     Excellent     Very Good     Very Good     Excellent     Excellent     Fair          Excellent     Excellent     Excellent     \n",
            "AUPR(Area under the PR curve)                                     0.80272       0.96219       0.68097       0.82584       0.75651       0.95415       0.5775        0.93617       0.94689       0.94809       \n",
            "BCD(Bray-Curtis dissimilarity)                                    0.0064        0.00115       0.00575       0.0036        0.01765       0.00095       0.023         0.0015        0.00165       0.00095       \n",
            "BM(Informedness or bookmaker informedness)                        0.82022       0.94811       0.67389       0.78022       0.81633       0.941         0.39          0.94111       0.927         0.93433       \n",
            "CEN(Confusion entropy)                                            0.22804       0.06803       0.32987       0.24118       0.26727       0.07584       0.43014       0.09213       0.0928        0.07615       \n",
            "DOR(Diagnostic odds ratio)                                        179.85785     6698.8022     55.17404      258.5463      118.00908     4278.27273    44.69748      2118.5        3359.69565    3283.20141    \n",
            "DP(Discriminant power)                                            1.24321       2.10938       0.96027       1.3301        1.14231       2.00202       0.90985       1.83374       1.94415       1.93864       \n",
            "DPI(Discriminant power interpretation)                            Limited       Fair          Poor          Limited       Limited       Fair          Poor          Limited       Limited       Limited       \n",
            "ERR(Error rate)                                                   0.0426        0.0075        0.0679        0.0338        0.0613        0.0091        0.073         0.013         0.0105        0.0103        \n",
            "F0.5(F0.5 score)                                                  0.77195       0.96883       0.65751       0.84359       0.67842       0.95959       0.64082       0.92773       0.95624       0.95349       \n",
            "F1(F1 score - harmonic mean of precision and sensitivity)         0.79981       0.96206       0.67896       0.82469       0.73948       0.95406       0.52597       0.93596       0.94662       0.94801       \n",
            "F2(F2 score)                                                      0.82976       0.95539       0.70186       0.80662       0.81263       0.9486        0.44604       0.94433       0.93719       0.94258       \n",
            "FDR(False discovery rate)                                         0.24557       0.02661       0.35605       0.14332       0.35698       0.0367        0.25          0.07767       0.03723       0.04281       \n",
            "FN(False negative/miss/type 2 error)                              149           49            282           205           130           55            595           50            69            61            \n",
            "FNR(Miss rate or false negative rate)                             0.149         0.049         0.282         0.205         0.13          0.055         0.595         0.05          0.069         0.061         \n",
            "FOR(False omission rate)                                          0.01679       0.00543       0.03174       0.0226        0.01503       0.0061        0.0629        0.00557       0.00764       0.00676       \n",
            "FP(False positive/type 1 error/false alarm)                       277           26            397           133           483           36            135           80            36            42            \n",
            "FPR(Fall-out or false positive rate)                              0.03078       0.00289       0.04411       0.01478       0.05367       0.004         0.015         0.00889       0.004         0.00467       \n",
            "G(G-measure geometric mean of precision and sensitivity)          0.80126       0.96213       0.67997       0.82526       0.74795       0.95411       0.55114       0.93606       0.94675       0.94805       \n",
            "GI(Gini index)                                                    0.82022       0.94811       0.67389       0.78022       0.81633       0.941         0.39          0.94111       0.927         0.93433       \n",
            "GM(G-mean geometric mean of specificity and sensitivity)          0.90819       0.97378       0.82845       0.88502       0.90736       0.97016       0.63161       0.97034       0.96295       0.96676       \n",
            "IBA(Index of balanced accuracy)                                   0.7273        0.90453       0.52306       0.63426       0.76046       0.89322       0.16755       0.90285       0.867         0.88197       \n",
            "ICSI(Individual classification success index)                     0.60543       0.92439       0.36195       0.65168       0.51302       0.9083        0.155         0.87233       0.89377       0.89619       \n",
            "IS(Information score)                                             2.91539       3.28301       2.68694       3.09876       2.68485       3.26799       2.90689       3.20528       3.26719       3.2588        \n",
            "J(Jaccard index)                                                  0.66641       0.9269        0.51396       0.70168       0.58665       0.91216       0.35683       0.87963       0.89865       0.90115       \n",
            "LS(Lift score)                                                    7.54433       9.73388       6.43946       8.56681       6.43016       9.63303       7.5           9.2233        9.62771       9.57187       \n",
            "MCC(Matthews correlation coefficient)                             0.77783       0.95798       0.64231       0.8067        0.71599       0.94907       0.51766       0.92885       0.94096       0.94234       \n",
            "MCCI(Matthews correlation coefficient interpretation)             Strong        Very Strong   Moderate      Strong        Strong        Very Strong   Moderate      Very Strong   Very Strong   Very Strong   \n",
            "MCEN(Modified confusion entropy)                                  0.32107       0.11449       0.42967       0.35554       0.35804       0.12533       0.51572       0.14688       0.15371       0.1228        \n",
            "MK(Markedness)                                                    0.73764       0.96796       0.61221       0.83408       0.62798       0.9572        0.6871        0.91676       0.95513       0.95042       \n",
            "N(Condition negative)                                             9000          9000          9000          9000          9000          9000          9000          9000          9000          9000          \n",
            "NLR(Negative likelihood ratio)                                    0.15373       0.04914       0.29501       0.20807       0.13737       0.05522       0.60406       0.05045       0.06928       0.06129       \n",
            "NLRI(Negative likelihood ratio interpretation)                    Fair          Good          Poor          Poor          Fair          Good          Negligible    Good          Good          Good          \n",
            "NPV(Negative predictive value)                                    0.98321       0.99457       0.96826       0.9774        0.98497       0.9939        0.9371        0.99443       0.99236       0.99324       \n",
            "OC(Overlap coefficient)                                           0.851         0.97339       0.718         0.85668       0.87          0.9633        0.75          0.95          0.96277       0.95719       \n",
            "OOC(Otsuka-Ochiai coefficient)                                    0.80126       0.96213       0.67997       0.82526       0.74795       0.95411       0.55114       0.93606       0.94675       0.94805       \n",
            "OP(Optimized precision)                                           0.89245       0.96883       0.78998       0.85935       0.89667       0.96462       0.50973       0.96582       0.95577       0.96058       \n",
            "P(Condition positive or support)                                  1000          1000          1000          1000          1000          1000          1000          1000          1000          1000          \n",
            "PLR(Positive likelihood ratio)                                    27.64982      329.19231     16.27708      53.79699      16.21118      236.25        27.0          106.875       232.75        201.21429     \n",
            "PLRI(Positive likelihood ratio interpretation)                    Good          Good          Good          Good          Good          Good          Good          Good          Good          Good          \n",
            "POP(Population)                                                   10000         10000         10000         10000         10000         10000         10000         10000         10000         10000         \n",
            "PPV(Precision or positive predictive value)                       0.75443       0.97339       0.64395       0.85668       0.64302       0.9633        0.75          0.92233       0.96277       0.95719       \n",
            "PRE(Prevalence)                                                   0.1           0.1           0.1           0.1           0.1           0.1           0.1           0.1           0.1           0.1           \n",
            "Q(Yule Q - coefficient of colligation)                            0.98894       0.9997        0.9644        0.99229       0.98319       0.99953       0.95623       0.99906       0.9994        0.99939       \n",
            "QI(Yule Q interpretation)                                         Strong        Strong        Strong        Strong        Strong        Strong        Strong        Strong        Strong        Strong        \n",
            "RACC(Random accuracy)                                             0.01128       0.00977       0.01115       0.00928       0.01353       0.00981       0.0054        0.0103        0.00967       0.00981       \n",
            "RACCU(Random accuracy unbiased)                                   0.01132       0.00977       0.01118       0.00929       0.01384       0.00981       0.00593       0.0103        0.00967       0.00981       \n",
            "TN(True negative/correct rejection)                               8723          8974          8603          8867          8517          8964          8865          8920          8964          8958          \n",
            "TNR(Specificity or true negative rate)                            0.96922       0.99711       0.95589       0.98522       0.94633       0.996         0.985         0.99111       0.996         0.99533       \n",
            "TON(Test outcome negative)                                        8872          9023          8885          9072          8647          9019          9460          8970          9033          9019          \n",
            "TOP(Test outcome positive)                                        1128          977           1115          928           1353          981           540           1030          967           981           \n",
            "TP(True positive/hit)                                             851           951           718           795           870           945           405           950           931           939           \n",
            "TPR(Sensitivity, recall, hit rate, or true positive rate)         0.851         0.951         0.718         0.795         0.87          0.945         0.405         0.95          0.931         0.939         \n",
            "Y(Youden index)                                                   0.82022       0.94811       0.67389       0.78022       0.81633       0.941         0.39          0.94111       0.927         0.93433       \n",
            "dInd(Distance index)                                              0.15215       0.04909       0.28543       0.20553       0.14064       0.05515       0.59519       0.05078       0.06912       0.06118       \n",
            "sInd(Similarity index)                                            0.89242       0.96529       0.79817       0.85467       0.90055       0.96101       0.57914       0.96409       0.95113       0.95674       \n",
            "\n"
          ],
          "name": "stdout"
        }
      ]
    }
  ]
}