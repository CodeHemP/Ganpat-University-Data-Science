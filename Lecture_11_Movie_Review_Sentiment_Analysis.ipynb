{
  "nbformat": 4,
  "nbformat_minor": 0,
  "metadata": {
    "colab": {
      "name": "Lecture_11_Movie_Review_Sentiment_Analysis.ipynb",
      "provenance": [],
      "collapsed_sections": [],
      "toc_visible": true,
      "authorship_tag": "ABX9TyP9YNQAOjFVhRxFGnLT9l8d",
      "include_colab_link": true
    },
    "kernelspec": {
      "name": "python3",
      "display_name": "Python 3"
    },
    "language_info": {
      "name": "python"
    },
    "accelerator": "GPU",
    "widgets": {
      "application/vnd.jupyter.widget-state+json": {
        "d2a5020fdbd340beba556f26a3eea455": {
          "model_module": "@jupyter-widgets/controls",
          "model_name": "HBoxModel",
          "state": {
            "_view_name": "HBoxView",
            "_dom_classes": [],
            "_model_name": "HBoxModel",
            "_view_module": "@jupyter-widgets/controls",
            "_model_module_version": "1.5.0",
            "_view_count": null,
            "_view_module_version": "1.5.0",
            "box_style": "",
            "layout": "IPY_MODEL_c93e2a9a40a84890826c809f08b84e3b",
            "_model_module": "@jupyter-widgets/controls",
            "children": [
              "IPY_MODEL_3b4c097ee83f46218471896da8d0561b",
              "IPY_MODEL_2cc8c8104e764b948cdac59f302935b2"
            ]
          }
        },
        "c93e2a9a40a84890826c809f08b84e3b": {
          "model_module": "@jupyter-widgets/base",
          "model_name": "LayoutModel",
          "state": {
            "_view_name": "LayoutView",
            "grid_template_rows": null,
            "right": null,
            "justify_content": null,
            "_view_module": "@jupyter-widgets/base",
            "overflow": null,
            "_model_module_version": "1.2.0",
            "_view_count": null,
            "flex_flow": null,
            "width": null,
            "min_width": null,
            "border": null,
            "align_items": null,
            "bottom": null,
            "_model_module": "@jupyter-widgets/base",
            "top": null,
            "grid_column": null,
            "overflow_y": null,
            "overflow_x": null,
            "grid_auto_flow": null,
            "grid_area": null,
            "grid_template_columns": null,
            "flex": null,
            "_model_name": "LayoutModel",
            "justify_items": null,
            "grid_row": null,
            "max_height": null,
            "align_content": null,
            "visibility": null,
            "align_self": null,
            "height": null,
            "min_height": null,
            "padding": null,
            "grid_auto_rows": null,
            "grid_gap": null,
            "max_width": null,
            "order": null,
            "_view_module_version": "1.2.0",
            "grid_template_areas": null,
            "object_position": null,
            "object_fit": null,
            "grid_auto_columns": null,
            "margin": null,
            "display": null,
            "left": null
          }
        },
        "3b4c097ee83f46218471896da8d0561b": {
          "model_module": "@jupyter-widgets/controls",
          "model_name": "FloatProgressModel",
          "state": {
            "_view_name": "ProgressView",
            "style": "IPY_MODEL_3d9179943f4b4dd296303597ab7b30b1",
            "_dom_classes": [],
            "description": "100%",
            "_model_name": "FloatProgressModel",
            "bar_style": "success",
            "max": 50000,
            "_view_module": "@jupyter-widgets/controls",
            "_model_module_version": "1.5.0",
            "value": 50000,
            "_view_count": null,
            "_view_module_version": "1.5.0",
            "orientation": "horizontal",
            "min": 0,
            "description_tooltip": null,
            "_model_module": "@jupyter-widgets/controls",
            "layout": "IPY_MODEL_436197d5ad70480eb8f7598efd79f6ac"
          }
        },
        "2cc8c8104e764b948cdac59f302935b2": {
          "model_module": "@jupyter-widgets/controls",
          "model_name": "HTMLModel",
          "state": {
            "_view_name": "HTMLView",
            "style": "IPY_MODEL_fc2552dfd83a4c76acc897070ff76c4d",
            "_dom_classes": [],
            "description": "",
            "_model_name": "HTMLModel",
            "placeholder": "​",
            "_view_module": "@jupyter-widgets/controls",
            "_model_module_version": "1.5.0",
            "value": " 50000/50000 [00:14&lt;00:00, 3431.34it/s]",
            "_view_count": null,
            "_view_module_version": "1.5.0",
            "description_tooltip": null,
            "_model_module": "@jupyter-widgets/controls",
            "layout": "IPY_MODEL_f151268fccf84ee9bd11dbc7a3f71a88"
          }
        },
        "3d9179943f4b4dd296303597ab7b30b1": {
          "model_module": "@jupyter-widgets/controls",
          "model_name": "ProgressStyleModel",
          "state": {
            "_view_name": "StyleView",
            "_model_name": "ProgressStyleModel",
            "description_width": "initial",
            "_view_module": "@jupyter-widgets/base",
            "_model_module_version": "1.5.0",
            "_view_count": null,
            "_view_module_version": "1.2.0",
            "bar_color": null,
            "_model_module": "@jupyter-widgets/controls"
          }
        },
        "436197d5ad70480eb8f7598efd79f6ac": {
          "model_module": "@jupyter-widgets/base",
          "model_name": "LayoutModel",
          "state": {
            "_view_name": "LayoutView",
            "grid_template_rows": null,
            "right": null,
            "justify_content": null,
            "_view_module": "@jupyter-widgets/base",
            "overflow": null,
            "_model_module_version": "1.2.0",
            "_view_count": null,
            "flex_flow": null,
            "width": null,
            "min_width": null,
            "border": null,
            "align_items": null,
            "bottom": null,
            "_model_module": "@jupyter-widgets/base",
            "top": null,
            "grid_column": null,
            "overflow_y": null,
            "overflow_x": null,
            "grid_auto_flow": null,
            "grid_area": null,
            "grid_template_columns": null,
            "flex": null,
            "_model_name": "LayoutModel",
            "justify_items": null,
            "grid_row": null,
            "max_height": null,
            "align_content": null,
            "visibility": null,
            "align_self": null,
            "height": null,
            "min_height": null,
            "padding": null,
            "grid_auto_rows": null,
            "grid_gap": null,
            "max_width": null,
            "order": null,
            "_view_module_version": "1.2.0",
            "grid_template_areas": null,
            "object_position": null,
            "object_fit": null,
            "grid_auto_columns": null,
            "margin": null,
            "display": null,
            "left": null
          }
        },
        "fc2552dfd83a4c76acc897070ff76c4d": {
          "model_module": "@jupyter-widgets/controls",
          "model_name": "DescriptionStyleModel",
          "state": {
            "_view_name": "StyleView",
            "_model_name": "DescriptionStyleModel",
            "description_width": "",
            "_view_module": "@jupyter-widgets/base",
            "_model_module_version": "1.5.0",
            "_view_count": null,
            "_view_module_version": "1.2.0",
            "_model_module": "@jupyter-widgets/controls"
          }
        },
        "f151268fccf84ee9bd11dbc7a3f71a88": {
          "model_module": "@jupyter-widgets/base",
          "model_name": "LayoutModel",
          "state": {
            "_view_name": "LayoutView",
            "grid_template_rows": null,
            "right": null,
            "justify_content": null,
            "_view_module": "@jupyter-widgets/base",
            "overflow": null,
            "_model_module_version": "1.2.0",
            "_view_count": null,
            "flex_flow": null,
            "width": null,
            "min_width": null,
            "border": null,
            "align_items": null,
            "bottom": null,
            "_model_module": "@jupyter-widgets/base",
            "top": null,
            "grid_column": null,
            "overflow_y": null,
            "overflow_x": null,
            "grid_auto_flow": null,
            "grid_area": null,
            "grid_template_columns": null,
            "flex": null,
            "_model_name": "LayoutModel",
            "justify_items": null,
            "grid_row": null,
            "max_height": null,
            "align_content": null,
            "visibility": null,
            "align_self": null,
            "height": null,
            "min_height": null,
            "padding": null,
            "grid_auto_rows": null,
            "grid_gap": null,
            "max_width": null,
            "order": null,
            "_view_module_version": "1.2.0",
            "grid_template_areas": null,
            "object_position": null,
            "object_fit": null,
            "grid_auto_columns": null,
            "margin": null,
            "display": null,
            "left": null
          }
        },
        "39217361b5e84a1a9c969cb449d8f6e4": {
          "model_module": "@jupyter-widgets/controls",
          "model_name": "HBoxModel",
          "state": {
            "_view_name": "HBoxView",
            "_dom_classes": [],
            "_model_name": "HBoxModel",
            "_view_module": "@jupyter-widgets/controls",
            "_model_module_version": "1.5.0",
            "_view_count": null,
            "_view_module_version": "1.5.0",
            "box_style": "",
            "layout": "IPY_MODEL_20da303e961146f78f4d33a52703f102",
            "_model_module": "@jupyter-widgets/controls",
            "children": [
              "IPY_MODEL_a65b656c01cf49af9146ff119c9c8d0f",
              "IPY_MODEL_1fe3bbfab2fb4ef99cc08b914becdc1c"
            ]
          }
        },
        "20da303e961146f78f4d33a52703f102": {
          "model_module": "@jupyter-widgets/base",
          "model_name": "LayoutModel",
          "state": {
            "_view_name": "LayoutView",
            "grid_template_rows": null,
            "right": null,
            "justify_content": null,
            "_view_module": "@jupyter-widgets/base",
            "overflow": null,
            "_model_module_version": "1.2.0",
            "_view_count": null,
            "flex_flow": null,
            "width": null,
            "min_width": null,
            "border": null,
            "align_items": null,
            "bottom": null,
            "_model_module": "@jupyter-widgets/base",
            "top": null,
            "grid_column": null,
            "overflow_y": null,
            "overflow_x": null,
            "grid_auto_flow": null,
            "grid_area": null,
            "grid_template_columns": null,
            "flex": null,
            "_model_name": "LayoutModel",
            "justify_items": null,
            "grid_row": null,
            "max_height": null,
            "align_content": null,
            "visibility": null,
            "align_self": null,
            "height": null,
            "min_height": null,
            "padding": null,
            "grid_auto_rows": null,
            "grid_gap": null,
            "max_width": null,
            "order": null,
            "_view_module_version": "1.2.0",
            "grid_template_areas": null,
            "object_position": null,
            "object_fit": null,
            "grid_auto_columns": null,
            "margin": null,
            "display": null,
            "left": null
          }
        },
        "a65b656c01cf49af9146ff119c9c8d0f": {
          "model_module": "@jupyter-widgets/controls",
          "model_name": "FloatProgressModel",
          "state": {
            "_view_name": "ProgressView",
            "style": "IPY_MODEL_4a578a1f27894e5f839771f6f4fe6fce",
            "_dom_classes": [],
            "description": "",
            "_model_name": "FloatProgressModel",
            "bar_style": "success",
            "max": 1,
            "_view_module": "@jupyter-widgets/controls",
            "_model_module_version": "1.5.0",
            "value": 1,
            "_view_count": null,
            "_view_module_version": "1.5.0",
            "orientation": "horizontal",
            "min": 0,
            "description_tooltip": null,
            "_model_module": "@jupyter-widgets/controls",
            "layout": "IPY_MODEL_d7a48879e6574c569491fc92800812d7"
          }
        },
        "1fe3bbfab2fb4ef99cc08b914becdc1c": {
          "model_module": "@jupyter-widgets/controls",
          "model_name": "HTMLModel",
          "state": {
            "_view_name": "HTMLView",
            "style": "IPY_MODEL_5d682c2223bd42daaf2f157fec898bf6",
            "_dom_classes": [],
            "description": "",
            "_model_name": "HTMLModel",
            "placeholder": "​",
            "_view_module": "@jupyter-widgets/controls",
            "_model_module_version": "1.5.0",
            "value": " 400000/? [00:18&lt;00:00, 21527.49it/s]",
            "_view_count": null,
            "_view_module_version": "1.5.0",
            "description_tooltip": null,
            "_model_module": "@jupyter-widgets/controls",
            "layout": "IPY_MODEL_7acfaea1b4b74e10be2ba8472c79db58"
          }
        },
        "4a578a1f27894e5f839771f6f4fe6fce": {
          "model_module": "@jupyter-widgets/controls",
          "model_name": "ProgressStyleModel",
          "state": {
            "_view_name": "StyleView",
            "_model_name": "ProgressStyleModel",
            "description_width": "initial",
            "_view_module": "@jupyter-widgets/base",
            "_model_module_version": "1.5.0",
            "_view_count": null,
            "_view_module_version": "1.2.0",
            "bar_color": null,
            "_model_module": "@jupyter-widgets/controls"
          }
        },
        "d7a48879e6574c569491fc92800812d7": {
          "model_module": "@jupyter-widgets/base",
          "model_name": "LayoutModel",
          "state": {
            "_view_name": "LayoutView",
            "grid_template_rows": null,
            "right": null,
            "justify_content": null,
            "_view_module": "@jupyter-widgets/base",
            "overflow": null,
            "_model_module_version": "1.2.0",
            "_view_count": null,
            "flex_flow": null,
            "width": null,
            "min_width": null,
            "border": null,
            "align_items": null,
            "bottom": null,
            "_model_module": "@jupyter-widgets/base",
            "top": null,
            "grid_column": null,
            "overflow_y": null,
            "overflow_x": null,
            "grid_auto_flow": null,
            "grid_area": null,
            "grid_template_columns": null,
            "flex": null,
            "_model_name": "LayoutModel",
            "justify_items": null,
            "grid_row": null,
            "max_height": null,
            "align_content": null,
            "visibility": null,
            "align_self": null,
            "height": null,
            "min_height": null,
            "padding": null,
            "grid_auto_rows": null,
            "grid_gap": null,
            "max_width": null,
            "order": null,
            "_view_module_version": "1.2.0",
            "grid_template_areas": null,
            "object_position": null,
            "object_fit": null,
            "grid_auto_columns": null,
            "margin": null,
            "display": null,
            "left": null
          }
        },
        "5d682c2223bd42daaf2f157fec898bf6": {
          "model_module": "@jupyter-widgets/controls",
          "model_name": "DescriptionStyleModel",
          "state": {
            "_view_name": "StyleView",
            "_model_name": "DescriptionStyleModel",
            "description_width": "",
            "_view_module": "@jupyter-widgets/base",
            "_model_module_version": "1.5.0",
            "_view_count": null,
            "_view_module_version": "1.2.0",
            "_model_module": "@jupyter-widgets/controls"
          }
        },
        "7acfaea1b4b74e10be2ba8472c79db58": {
          "model_module": "@jupyter-widgets/base",
          "model_name": "LayoutModel",
          "state": {
            "_view_name": "LayoutView",
            "grid_template_rows": null,
            "right": null,
            "justify_content": null,
            "_view_module": "@jupyter-widgets/base",
            "overflow": null,
            "_model_module_version": "1.2.0",
            "_view_count": null,
            "flex_flow": null,
            "width": null,
            "min_width": null,
            "border": null,
            "align_items": null,
            "bottom": null,
            "_model_module": "@jupyter-widgets/base",
            "top": null,
            "grid_column": null,
            "overflow_y": null,
            "overflow_x": null,
            "grid_auto_flow": null,
            "grid_area": null,
            "grid_template_columns": null,
            "flex": null,
            "_model_name": "LayoutModel",
            "justify_items": null,
            "grid_row": null,
            "max_height": null,
            "align_content": null,
            "visibility": null,
            "align_self": null,
            "height": null,
            "min_height": null,
            "padding": null,
            "grid_auto_rows": null,
            "grid_gap": null,
            "max_width": null,
            "order": null,
            "_view_module_version": "1.2.0",
            "grid_template_areas": null,
            "object_position": null,
            "object_fit": null,
            "grid_auto_columns": null,
            "margin": null,
            "display": null,
            "left": null
          }
        },
        "35dde44773a3431ab1e784bca26c017e": {
          "model_module": "@jupyter-widgets/controls",
          "model_name": "HBoxModel",
          "state": {
            "_view_name": "HBoxView",
            "_dom_classes": [],
            "_model_name": "HBoxModel",
            "_view_module": "@jupyter-widgets/controls",
            "_model_module_version": "1.5.0",
            "_view_count": null,
            "_view_module_version": "1.5.0",
            "box_style": "",
            "layout": "IPY_MODEL_c289b7b8296a4b6eb2f2b2976733f4a1",
            "_model_module": "@jupyter-widgets/controls",
            "children": [
              "IPY_MODEL_9d242748dc734863b232580d419989a0",
              "IPY_MODEL_3f7f7ea88ed04bb2a4b2a63967930ec5"
            ]
          }
        },
        "c289b7b8296a4b6eb2f2b2976733f4a1": {
          "model_module": "@jupyter-widgets/base",
          "model_name": "LayoutModel",
          "state": {
            "_view_name": "LayoutView",
            "grid_template_rows": null,
            "right": null,
            "justify_content": null,
            "_view_module": "@jupyter-widgets/base",
            "overflow": null,
            "_model_module_version": "1.2.0",
            "_view_count": null,
            "flex_flow": null,
            "width": null,
            "min_width": null,
            "border": null,
            "align_items": null,
            "bottom": null,
            "_model_module": "@jupyter-widgets/base",
            "top": null,
            "grid_column": null,
            "overflow_y": null,
            "overflow_x": null,
            "grid_auto_flow": null,
            "grid_area": null,
            "grid_template_columns": null,
            "flex": null,
            "_model_name": "LayoutModel",
            "justify_items": null,
            "grid_row": null,
            "max_height": null,
            "align_content": null,
            "visibility": null,
            "align_self": null,
            "height": null,
            "min_height": null,
            "padding": null,
            "grid_auto_rows": null,
            "grid_gap": null,
            "max_width": null,
            "order": null,
            "_view_module_version": "1.2.0",
            "grid_template_areas": null,
            "object_position": null,
            "object_fit": null,
            "grid_auto_columns": null,
            "margin": null,
            "display": null,
            "left": null
          }
        },
        "9d242748dc734863b232580d419989a0": {
          "model_module": "@jupyter-widgets/controls",
          "model_name": "FloatProgressModel",
          "state": {
            "_view_name": "ProgressView",
            "style": "IPY_MODEL_51124c93db354432b6e8e241ede9720b",
            "_dom_classes": [],
            "description": "100%",
            "_model_name": "FloatProgressModel",
            "bar_style": "success",
            "max": 627,
            "_view_module": "@jupyter-widgets/controls",
            "_model_module_version": "1.5.0",
            "value": 627,
            "_view_count": null,
            "_view_module_version": "1.5.0",
            "orientation": "horizontal",
            "min": 0,
            "description_tooltip": null,
            "_model_module": "@jupyter-widgets/controls",
            "layout": "IPY_MODEL_05a550941bc84208a0cdf813a7cb8ce6"
          }
        },
        "3f7f7ea88ed04bb2a4b2a63967930ec5": {
          "model_module": "@jupyter-widgets/controls",
          "model_name": "HTMLModel",
          "state": {
            "_view_name": "HTMLView",
            "style": "IPY_MODEL_b4568df326654d9da4be79a48f6286d3",
            "_dom_classes": [],
            "description": "",
            "_model_name": "HTMLModel",
            "placeholder": "​",
            "_view_module": "@jupyter-widgets/controls",
            "_model_module_version": "1.5.0",
            "value": " 627/627 [00:00&lt;00:00, 15233.64it/s]",
            "_view_count": null,
            "_view_module_version": "1.5.0",
            "description_tooltip": null,
            "_model_module": "@jupyter-widgets/controls",
            "layout": "IPY_MODEL_4af78b75a89e415e9f9d114f89798f85"
          }
        },
        "51124c93db354432b6e8e241ede9720b": {
          "model_module": "@jupyter-widgets/controls",
          "model_name": "ProgressStyleModel",
          "state": {
            "_view_name": "StyleView",
            "_model_name": "ProgressStyleModel",
            "description_width": "initial",
            "_view_module": "@jupyter-widgets/base",
            "_model_module_version": "1.5.0",
            "_view_count": null,
            "_view_module_version": "1.2.0",
            "bar_color": null,
            "_model_module": "@jupyter-widgets/controls"
          }
        },
        "05a550941bc84208a0cdf813a7cb8ce6": {
          "model_module": "@jupyter-widgets/base",
          "model_name": "LayoutModel",
          "state": {
            "_view_name": "LayoutView",
            "grid_template_rows": null,
            "right": null,
            "justify_content": null,
            "_view_module": "@jupyter-widgets/base",
            "overflow": null,
            "_model_module_version": "1.2.0",
            "_view_count": null,
            "flex_flow": null,
            "width": null,
            "min_width": null,
            "border": null,
            "align_items": null,
            "bottom": null,
            "_model_module": "@jupyter-widgets/base",
            "top": null,
            "grid_column": null,
            "overflow_y": null,
            "overflow_x": null,
            "grid_auto_flow": null,
            "grid_area": null,
            "grid_template_columns": null,
            "flex": null,
            "_model_name": "LayoutModel",
            "justify_items": null,
            "grid_row": null,
            "max_height": null,
            "align_content": null,
            "visibility": null,
            "align_self": null,
            "height": null,
            "min_height": null,
            "padding": null,
            "grid_auto_rows": null,
            "grid_gap": null,
            "max_width": null,
            "order": null,
            "_view_module_version": "1.2.0",
            "grid_template_areas": null,
            "object_position": null,
            "object_fit": null,
            "grid_auto_columns": null,
            "margin": null,
            "display": null,
            "left": null
          }
        },
        "b4568df326654d9da4be79a48f6286d3": {
          "model_module": "@jupyter-widgets/controls",
          "model_name": "DescriptionStyleModel",
          "state": {
            "_view_name": "StyleView",
            "_model_name": "DescriptionStyleModel",
            "description_width": "",
            "_view_module": "@jupyter-widgets/base",
            "_model_module_version": "1.5.0",
            "_view_count": null,
            "_view_module_version": "1.2.0",
            "_model_module": "@jupyter-widgets/controls"
          }
        },
        "4af78b75a89e415e9f9d114f89798f85": {
          "model_module": "@jupyter-widgets/base",
          "model_name": "LayoutModel",
          "state": {
            "_view_name": "LayoutView",
            "grid_template_rows": null,
            "right": null,
            "justify_content": null,
            "_view_module": "@jupyter-widgets/base",
            "overflow": null,
            "_model_module_version": "1.2.0",
            "_view_count": null,
            "flex_flow": null,
            "width": null,
            "min_width": null,
            "border": null,
            "align_items": null,
            "bottom": null,
            "_model_module": "@jupyter-widgets/base",
            "top": null,
            "grid_column": null,
            "overflow_y": null,
            "overflow_x": null,
            "grid_auto_flow": null,
            "grid_area": null,
            "grid_template_columns": null,
            "flex": null,
            "_model_name": "LayoutModel",
            "justify_items": null,
            "grid_row": null,
            "max_height": null,
            "align_content": null,
            "visibility": null,
            "align_self": null,
            "height": null,
            "min_height": null,
            "padding": null,
            "grid_auto_rows": null,
            "grid_gap": null,
            "max_width": null,
            "order": null,
            "_view_module_version": "1.2.0",
            "grid_template_areas": null,
            "object_position": null,
            "object_fit": null,
            "grid_auto_columns": null,
            "margin": null,
            "display": null,
            "left": null
          }
        }
      }
    }
  },
  "cells": [
    {
      "cell_type": "markdown",
      "metadata": {
        "id": "view-in-github",
        "colab_type": "text"
      },
      "source": [
        "<a href=\"https://colab.research.google.com/github/ashishpatel26/Ganpat-University-Data-Science/blob/main/Lecture_11_Movie_Review_Sentiment_Analysis.ipynb\" target=\"_parent\"><img src=\"https://colab.research.google.com/assets/colab-badge.svg\" alt=\"Open In Colab\"/></a>"
      ]
    },
    {
      "cell_type": "markdown",
      "metadata": {
        "id": "Qv5jfFJ5DNHV"
      },
      "source": [
        "### 1.Load Libraries"
      ]
    },
    {
      "cell_type": "code",
      "metadata": {
        "id": "vPmbVsY74oN0"
      },
      "source": [
        "import pandas as pd\n",
        "import numpy as np\n",
        "import re\n",
        "import nltk\n",
        "from nltk.corpus import stopwords\n",
        "\n",
        "from tensorflow.keras.preprocessing.text import one_hot, Tokenizer\n",
        "from tensorflow.keras.preprocessing.sequence import pad_sequences\n",
        "from tensorflow.keras.layers import *\n",
        "from tensorflow.keras import Sequential\n",
        "from sklearn.model_selection import train_test_split\n",
        "from tqdm.notebook import tqdm\n",
        "# import shutils\n",
        "# shutils.unpack_archive('/content/archive (1).zip', '/contents/', \"zip\")"
      ],
      "execution_count": 1,
      "outputs": []
    },
    {
      "cell_type": "markdown",
      "metadata": {
        "id": "oeZtRPL2DQx6"
      },
      "source": [
        "### 2.Load Dataset"
      ]
    },
    {
      "cell_type": "code",
      "metadata": {
        "colab": {
          "base_uri": "https://localhost:8080/",
          "height": 204
        },
        "id": "DdzlU3U_48AY",
        "outputId": "b27b695a-4338-42e7-c7bf-5d1c24b07921"
      },
      "source": [
        "mv_review = pd.read_csv(\"https://raw.githubusercontent.com/LawrenceDuan/IMDb-Review-Analysis/master/IMDb_Reviews.csv\")\n",
        "mv_review.head()"
      ],
      "execution_count": 2,
      "outputs": [
        {
          "output_type": "execute_result",
          "data": {
            "text/html": [
              "<div>\n",
              "<style scoped>\n",
              "    .dataframe tbody tr th:only-of-type {\n",
              "        vertical-align: middle;\n",
              "    }\n",
              "\n",
              "    .dataframe tbody tr th {\n",
              "        vertical-align: top;\n",
              "    }\n",
              "\n",
              "    .dataframe thead th {\n",
              "        text-align: right;\n",
              "    }\n",
              "</style>\n",
              "<table border=\"1\" class=\"dataframe\">\n",
              "  <thead>\n",
              "    <tr style=\"text-align: right;\">\n",
              "      <th></th>\n",
              "      <th>review</th>\n",
              "      <th>sentiment</th>\n",
              "    </tr>\n",
              "  </thead>\n",
              "  <tbody>\n",
              "    <tr>\n",
              "      <th>0</th>\n",
              "      <td>My family and I normally do not watch local mo...</td>\n",
              "      <td>1</td>\n",
              "    </tr>\n",
              "    <tr>\n",
              "      <th>1</th>\n",
              "      <td>Believe it or not, this was at one time the wo...</td>\n",
              "      <td>0</td>\n",
              "    </tr>\n",
              "    <tr>\n",
              "      <th>2</th>\n",
              "      <td>After some internet surfing, I found the \"Home...</td>\n",
              "      <td>0</td>\n",
              "    </tr>\n",
              "    <tr>\n",
              "      <th>3</th>\n",
              "      <td>One of the most unheralded great works of anim...</td>\n",
              "      <td>1</td>\n",
              "    </tr>\n",
              "    <tr>\n",
              "      <th>4</th>\n",
              "      <td>It was the Sixties, and anyone with long hair ...</td>\n",
              "      <td>0</td>\n",
              "    </tr>\n",
              "  </tbody>\n",
              "</table>\n",
              "</div>"
            ],
            "text/plain": [
              "                                              review  sentiment\n",
              "0  My family and I normally do not watch local mo...          1\n",
              "1  Believe it or not, this was at one time the wo...          0\n",
              "2  After some internet surfing, I found the \"Home...          0\n",
              "3  One of the most unheralded great works of anim...          1\n",
              "4  It was the Sixties, and anyone with long hair ...          0"
            ]
          },
          "metadata": {
            "tags": []
          },
          "execution_count": 2
        }
      ]
    },
    {
      "cell_type": "code",
      "metadata": {
        "colab": {
          "base_uri": "https://localhost:8080/",
          "height": 54
        },
        "id": "7k0Mbr935IXo",
        "outputId": "b1a6fe1b-c80b-4190-d986-1f01f0df4d8b"
      },
      "source": [
        "temp = mv_review.iloc[1, 0]\n",
        "temp"
      ],
      "execution_count": 3,
      "outputs": [
        {
          "output_type": "execute_result",
          "data": {
            "application/vnd.google.colaboratory.intrinsic+json": {
              "type": "string"
            },
            "text/plain": [
              "'Believe it or not, this was at one time the worst movie I had ever seen. Since that time, I have seen many more movies that are worse (how is it possible??) Therefore, to be fair, I had to give this movie a 2 out of 10. But it was a tough call.'"
            ]
          },
          "metadata": {
            "tags": []
          },
          "execution_count": 3
        }
      ]
    },
    {
      "cell_type": "markdown",
      "metadata": {
        "id": "l5MQlzwIDTo0"
      },
      "source": [
        "### 3.Sanity Check of dataset"
      ]
    },
    {
      "cell_type": "code",
      "metadata": {
        "colab": {
          "base_uri": "https://localhost:8080/"
        },
        "id": "0CTvPTcG5TrW",
        "outputId": "1a1f56bd-74c3-49a5-813d-eafb3fd5cad7"
      },
      "source": [
        "mv_review.isnull().sum()"
      ],
      "execution_count": 4,
      "outputs": [
        {
          "output_type": "execute_result",
          "data": {
            "text/plain": [
              "review       0\n",
              "sentiment    0\n",
              "dtype: int64"
            ]
          },
          "metadata": {
            "tags": []
          },
          "execution_count": 4
        }
      ]
    },
    {
      "cell_type": "code",
      "metadata": {
        "colab": {
          "base_uri": "https://localhost:8080/"
        },
        "id": "2purw55q8bPG",
        "outputId": "c6fcc887-20a7-4cfe-92b8-f35408a191f1"
      },
      "source": [
        "mv_review.shape"
      ],
      "execution_count": 5,
      "outputs": [
        {
          "output_type": "execute_result",
          "data": {
            "text/plain": [
              "(50000, 2)"
            ]
          },
          "metadata": {
            "tags": []
          },
          "execution_count": 5
        }
      ]
    },
    {
      "cell_type": "markdown",
      "metadata": {
        "id": "8EDnoqgADXAo"
      },
      "source": [
        "### 4.Imbalance Checking on Target variable"
      ]
    },
    {
      "cell_type": "code",
      "metadata": {
        "colab": {
          "base_uri": "https://localhost:8080/",
          "height": 297
        },
        "id": "Wbzz4E2U8icb",
        "outputId": "441abb03-d2bd-43c7-a605-0eb1ecb938c7"
      },
      "source": [
        "import seaborn as sns\n",
        "\n",
        "sns.countplot(x=\"sentiment\", data=mv_review)"
      ],
      "execution_count": 6,
      "outputs": [
        {
          "output_type": "execute_result",
          "data": {
            "text/plain": [
              "<matplotlib.axes._subplots.AxesSubplot at 0x7fdd32e5c650>"
            ]
          },
          "metadata": {
            "tags": []
          },
          "execution_count": 6
        },
        {
          "output_type": "display_data",
          "data": {
            "image/png": "[encoded data removed]",
            "text/plain": [
              "<Figure size 432x288 with 1 Axes>"
            ]
          },
          "metadata": {
            "tags": [],
            "needs_background": "light"
          }
        }
      ]
    },
    {
      "cell_type": "markdown",
      "metadata": {
        "id": "f38T3yM39NEO"
      },
      "source": [
        "### 5.Data Preprocessing"
      ]
    },
    {
      "cell_type": "code",
      "metadata": {
        "colab": {
          "base_uri": "https://localhost:8080/",
          "height": 54
        },
        "id": "nYRKehig8157",
        "outputId": "9150ad6a-35db-4b15-8f29-a247d655364f"
      },
      "source": [
        "temp"
      ],
      "execution_count": 7,
      "outputs": [
        {
          "output_type": "execute_result",
          "data": {
            "application/vnd.google.colaboratory.intrinsic+json": {
              "type": "string"
            },
            "text/plain": [
              "'Believe it or not, this was at one time the worst movie I had ever seen. Since that time, I have seen many more movies that are worse (how is it possible??) Therefore, to be fair, I had to give this movie a 2 out of 10. But it was a tough call.'"
            ]
          },
          "metadata": {
            "tags": []
          },
          "execution_count": 7
        }
      ]
    },
    {
      "cell_type": "code",
      "metadata": {
        "id": "oHHjTpBD-_Uf"
      },
      "source": [
        "TAG_re = re.compile(r'<[^>]+>')\n",
        "\n",
        "def remove_tags(text):\n",
        "  return TAG_re.sub('', text)"
      ],
      "execution_count": 8,
      "outputs": []
    },
    {
      "cell_type": "code",
      "metadata": {
        "id": "NARZrZ77_GZr"
      },
      "source": [
        "def preprocessing_text(text):\n",
        "\n",
        "  sentence = remove_tags(text) # remove tag\n",
        "\n",
        "  sentence = re.sub(r'[^a-zA-Z]\\s+',' ', sentence) # remove whitespace and numbers\n",
        "\n",
        "  sentence = re.sub(r'\\s+[^a-zA-Z]\\s+',' ', sentence) #single character remove\n",
        "\n",
        "  sentence = re.sub(r'\\s+',' ', sentence) #single character remove\n",
        "\n",
        "  return sentence"
      ],
      "execution_count": 9,
      "outputs": []
    },
    {
      "cell_type": "code",
      "metadata": {
        "colab": {
          "base_uri": "https://localhost:8080/",
          "height": 67,
          "referenced_widgets": [
            "d2a5020fdbd340beba556f26a3eea455",
            "c93e2a9a40a84890826c809f08b84e3b",
            "3b4c097ee83f46218471896da8d0561b",
            "2cc8c8104e764b948cdac59f302935b2",
            "3d9179943f4b4dd296303597ab7b30b1",
            "436197d5ad70480eb8f7598efd79f6ac",
            "fc2552dfd83a4c76acc897070ff76c4d",
            "f151268fccf84ee9bd11dbc7a3f71a88"
          ]
        },
        "id": "cHePFJmMALQy",
        "outputId": "c005c3b8-2800-4333-cdbb-37c9e8fcac83"
      },
      "source": [
        "X = []\n",
        "for sent in tqdm(list(mv_review[\"review\"])):\n",
        "  X.append(preprocessing_text(sent))"
      ],
      "execution_count": 10,
      "outputs": [
        {
          "output_type": "display_data",
          "data": {
            "application/vnd.jupyter.widget-view+json": {
              "model_id": "d2a5020fdbd340beba556f26a3eea455",
              "version_minor": 0,
              "version_major": 2
            },
            "text/plain": [
              "HBox(children=(FloatProgress(value=0.0, max=50000.0), HTML(value='')))"
            ]
          },
          "metadata": {
            "tags": []
          }
        },
        {
          "output_type": "stream",
          "text": [
            "\n"
          ],
          "name": "stdout"
        }
      ]
    },
    {
      "cell_type": "code",
      "metadata": {
        "id": "cPFhdwOsEU32"
      },
      "source": [
        "y = mv_review[\"sentiment\"].values"
      ],
      "execution_count": 11,
      "outputs": []
    },
    {
      "cell_type": "code",
      "metadata": {
        "id": "5ZrEqN5LEzng"
      },
      "source": [
        "X_train, X_test, y_train, y_test = train_test_split(X,y, test_size=0.2, random_state = 42)"
      ],
      "execution_count": 12,
      "outputs": []
    },
    {
      "cell_type": "code",
      "metadata": {
        "colab": {
          "base_uri": "https://localhost:8080/"
        },
        "id": "-XMLaFy8FknS",
        "outputId": "01203c6d-6a28-49e1-fcfb-9bf3a5d85fa9"
      },
      "source": [
        "len(X_train), len(y_train)"
      ],
      "execution_count": 13,
      "outputs": [
        {
          "output_type": "execute_result",
          "data": {
            "text/plain": [
              "(40000, 40000)"
            ]
          },
          "metadata": {
            "tags": []
          },
          "execution_count": 13
        }
      ]
    },
    {
      "cell_type": "code",
      "metadata": {
        "colab": {
          "base_uri": "https://localhost:8080/"
        },
        "id": "ZaYHMiiiFq9g",
        "outputId": "8032859b-e434-4110-fd1e-d987994b286b"
      },
      "source": [
        "len(X_test), len(y_test)"
      ],
      "execution_count": 14,
      "outputs": [
        {
          "output_type": "execute_result",
          "data": {
            "text/plain": [
              "(10000, 10000)"
            ]
          },
          "metadata": {
            "tags": []
          },
          "execution_count": 14
        }
      ]
    },
    {
      "cell_type": "markdown",
      "metadata": {
        "id": "1lZOPyt1GAIb"
      },
      "source": [
        "### 6.Embedding Layer"
      ]
    },
    {
      "cell_type": "code",
      "metadata": {
        "id": "XQAp_GOAFuJP"
      },
      "source": [
        "# Token the sentences into words\n",
        "tokernizer = Tokenizer(num_words = 5000)\n",
        "tokernizer.fit_on_texts(X_train)"
      ],
      "execution_count": 15,
      "outputs": []
    },
    {
      "cell_type": "code",
      "metadata": {
        "id": "WL4R2Y_RGt1O"
      },
      "source": [
        "# Transforms each text in texts to a sequence of integers.\n",
        "X_train = tokernizer.texts_to_sequences(X_train)\n",
        "X_test = tokernizer.texts_to_sequences(X_test)"
      ],
      "execution_count": 16,
      "outputs": []
    },
    {
      "cell_type": "code",
      "metadata": {
        "colab": {
          "base_uri": "https://localhost:8080/"
        },
        "id": "4P65t6bbJGh6",
        "outputId": "53602c03-3098-4e91-d729-58c377ce03a2"
      },
      "source": [
        "vocal_length = len(tokernizer.word_index) + 1\n",
        "print(vocal_length)"
      ],
      "execution_count": 17,
      "outputs": [
        {
          "output_type": "stream",
          "text": [
            "110316\n"
          ],
          "name": "stdout"
        }
      ]
    },
    {
      "cell_type": "code",
      "metadata": {
        "id": "BIYwl-cwL7Ar"
      },
      "source": [
        "max_len = 100"
      ],
      "execution_count": 18,
      "outputs": []
    },
    {
      "cell_type": "code",
      "metadata": {
        "id": "2na7CSiLMFQq"
      },
      "source": [
        "X_train = pad_sequences(X_train, padding=\"post\", maxlen = 100)\n",
        "X_test = pad_sequences(X_test, padding=\"post\", maxlen = 100)"
      ],
      "execution_count": 19,
      "outputs": []
    },
    {
      "cell_type": "code",
      "metadata": {
        "colab": {
          "base_uri": "https://localhost:8080/"
        },
        "id": "t7_70rr5NEVJ",
        "outputId": "bf8c011f-9da7-477a-a5f3-28c8ea78c8ec"
      },
      "source": [
        "!wget https://media.githubusercontent.com/media/rohanrao619/Twitter_Sentiment_Analysis/master/glove.6B.100d.txt"
      ],
      "execution_count": 20,
      "outputs": [
        {
          "output_type": "stream",
          "text": [
            "--2021-05-31 12:15:42--  https://media.githubusercontent.com/media/rohanrao619/Twitter_Sentiment_Analysis/master/glove.6B.100d.txt\n",
            "Resolving media.githubusercontent.com (media.githubusercontent.com)... 185.199.108.133, 185.199.109.133, 185.199.110.133, ...\n",
            "Connecting to media.githubusercontent.com (media.githubusercontent.com)|185.199.108.133|:443... connected.\n",
            "HTTP request sent, awaiting response... 200 OK\n",
            "Length: 347116733 (331M) [text/plain]\n",
            "Saving to: ‘glove.6B.100d.txt’\n",
            "\n",
            "glove.6B.100d.txt   100%[===================>] 331.04M   161MB/s    in 2.1s    \n",
            "\n",
            "2021-05-31 12:15:58 (161 MB/s) - ‘glove.6B.100d.txt’ saved [347116733/347116733]\n",
            "\n"
          ],
          "name": "stdout"
        }
      ]
    },
    {
      "cell_type": "code",
      "metadata": {
        "id": "kZAJYpxNOf25"
      },
      "source": [
        "emb_dict = {}\n",
        "glove_file = open(\"/content/glove.6B.100d.txt\", encoding=\"utf8\")"
      ],
      "execution_count": 21,
      "outputs": []
    },
    {
      "cell_type": "code",
      "metadata": {
        "colab": {
          "base_uri": "https://localhost:8080/",
          "height": 67,
          "referenced_widgets": [
            "39217361b5e84a1a9c969cb449d8f6e4",
            "20da303e961146f78f4d33a52703f102",
            "a65b656c01cf49af9146ff119c9c8d0f",
            "1fe3bbfab2fb4ef99cc08b914becdc1c",
            "4a578a1f27894e5f839771f6f4fe6fce",
            "d7a48879e6574c569491fc92800812d7",
            "5d682c2223bd42daaf2f157fec898bf6",
            "7acfaea1b4b74e10be2ba8472c79db58"
          ]
        },
        "id": "f5nalXmQO0d7",
        "outputId": "45cb0abf-d789-4b9e-9a67-713f175aee55"
      },
      "source": [
        "for line in tqdm(glove_file):\n",
        "  records = line.split()\n",
        "  word = records[0]\n",
        "  vect_dim = np.asarray(records[1:], dtype=\"float32\")\n",
        "  emb_dict[word] = vect_dim\n",
        "\n",
        "glove_file.close()"
      ],
      "execution_count": 22,
      "outputs": [
        {
          "output_type": "display_data",
          "data": {
            "application/vnd.jupyter.widget-view+json": {
              "model_id": "39217361b5e84a1a9c969cb449d8f6e4",
              "version_minor": 0,
              "version_major": 2
            },
            "text/plain": [
              "HBox(children=(FloatProgress(value=1.0, bar_style='info', max=1.0), HTML(value='')))"
            ]
          },
          "metadata": {
            "tags": []
          }
        },
        {
          "output_type": "stream",
          "text": [
            "\n"
          ],
          "name": "stdout"
        }
      ]
    },
    {
      "cell_type": "code",
      "metadata": {
        "id": "Nigqb-40PZVv"
      },
      "source": [
        "emb_matrix = np.zeros((vocal_length, 100))\n",
        "for word, index in tokernizer.word_index.items():\n",
        "  emb_vect = emb_dict.get(word)\n",
        "  if emb_vect is not None:\n",
        "    emb_matrix[index] = emb_vect"
      ],
      "execution_count": 23,
      "outputs": []
    },
    {
      "cell_type": "code",
      "metadata": {
        "colab": {
          "base_uri": "https://localhost:8080/",
          "height": 439
        },
        "id": "yTzWc41MREBu",
        "outputId": "e472e1e4-3f86-4154-f6e5-314d11e085f7"
      },
      "source": [
        "pd.DataFrame(emb_matrix)"
      ],
      "execution_count": 24,
      "outputs": [
        {
          "output_type": "execute_result",
          "data": {
            "text/html": [
              "<div>\n",
              "<style scoped>\n",
              "    .dataframe tbody tr th:only-of-type {\n",
              "        vertical-align: middle;\n",
              "    }\n",
              "\n",
              "    .dataframe tbody tr th {\n",
              "        vertical-align: top;\n",
              "    }\n",
              "\n",
              "    .dataframe thead th {\n",
              "        text-align: right;\n",
              "    }\n",
              "</style>\n",
              "<table border=\"1\" class=\"dataframe\">\n",
              "  <thead>\n",
              "    <tr style=\"text-align: right;\">\n",
              "      <th></th>\n",
              "      <th>0</th>\n",
              "      <th>1</th>\n",
              "      <th>2</th>\n",
              "      <th>3</th>\n",
              "      <th>4</th>\n",
              "      <th>5</th>\n",
              "      <th>6</th>\n",
              "      <th>7</th>\n",
              "      <th>8</th>\n",
              "      <th>9</th>\n",
              "      <th>10</th>\n",
              "      <th>11</th>\n",
              "      <th>12</th>\n",
              "      <th>13</th>\n",
              "      <th>14</th>\n",
              "      <th>15</th>\n",
              "      <th>16</th>\n",
              "      <th>17</th>\n",
              "      <th>18</th>\n",
              "      <th>19</th>\n",
              "      <th>20</th>\n",
              "      <th>21</th>\n",
              "      <th>22</th>\n",
              "      <th>23</th>\n",
              "      <th>24</th>\n",
              "      <th>25</th>\n",
              "      <th>26</th>\n",
              "      <th>27</th>\n",
              "      <th>28</th>\n",
              "      <th>29</th>\n",
              "      <th>30</th>\n",
              "      <th>31</th>\n",
              "      <th>32</th>\n",
              "      <th>33</th>\n",
              "      <th>34</th>\n",
              "      <th>35</th>\n",
              "      <th>36</th>\n",
              "      <th>37</th>\n",
              "      <th>38</th>\n",
              "      <th>39</th>\n",
              "      <th>...</th>\n",
              "      <th>60</th>\n",
              "      <th>61</th>\n",
              "      <th>62</th>\n",
              "      <th>63</th>\n",
              "      <th>64</th>\n",
              "      <th>65</th>\n",
              "      <th>66</th>\n",
              "      <th>67</th>\n",
              "      <th>68</th>\n",
              "      <th>69</th>\n",
              "      <th>70</th>\n",
              "      <th>71</th>\n",
              "      <th>72</th>\n",
              "      <th>73</th>\n",
              "      <th>74</th>\n",
              "      <th>75</th>\n",
              "      <th>76</th>\n",
              "      <th>77</th>\n",
              "      <th>78</th>\n",
              "      <th>79</th>\n",
              "      <th>80</th>\n",
              "      <th>81</th>\n",
              "      <th>82</th>\n",
              "      <th>83</th>\n",
              "      <th>84</th>\n",
              "      <th>85</th>\n",
              "      <th>86</th>\n",
              "      <th>87</th>\n",
              "      <th>88</th>\n",
              "      <th>89</th>\n",
              "      <th>90</th>\n",
              "      <th>91</th>\n",
              "      <th>92</th>\n",
              "      <th>93</th>\n",
              "      <th>94</th>\n",
              "      <th>95</th>\n",
              "      <th>96</th>\n",
              "      <th>97</th>\n",
              "      <th>98</th>\n",
              "      <th>99</th>\n",
              "    </tr>\n",
              "  </thead>\n",
              "  <tbody>\n",
              "    <tr>\n",
              "      <th>0</th>\n",
              "      <td>0.000000</td>\n",
              "      <td>0.000000</td>\n",
              "      <td>0.000000</td>\n",
              "      <td>0.000000</td>\n",
              "      <td>0.000000</td>\n",
              "      <td>0.000000</td>\n",
              "      <td>0.00000</td>\n",
              "      <td>0.00000</td>\n",
              "      <td>0.00000</td>\n",
              "      <td>0.000000</td>\n",
              "      <td>0.00000</td>\n",
              "      <td>0.000000</td>\n",
              "      <td>0.000000</td>\n",
              "      <td>0.000000</td>\n",
              "      <td>0.00000</td>\n",
              "      <td>0.000000</td>\n",
              "      <td>0.00000</td>\n",
              "      <td>0.000000</td>\n",
              "      <td>0.000000</td>\n",
              "      <td>0.000000</td>\n",
              "      <td>0.000000</td>\n",
              "      <td>0.000000</td>\n",
              "      <td>0.000000</td>\n",
              "      <td>0.000000</td>\n",
              "      <td>0.000000</td>\n",
              "      <td>0.00000</td>\n",
              "      <td>0.00000</td>\n",
              "      <td>0.00000</td>\n",
              "      <td>0.000000</td>\n",
              "      <td>0.000000</td>\n",
              "      <td>0.000000</td>\n",
              "      <td>0.000000</td>\n",
              "      <td>0.000000</td>\n",
              "      <td>0.00000</td>\n",
              "      <td>0.000000</td>\n",
              "      <td>0.000000</td>\n",
              "      <td>0.000000</td>\n",
              "      <td>0.00000</td>\n",
              "      <td>0.000000</td>\n",
              "      <td>0.000000</td>\n",
              "      <td>...</td>\n",
              "      <td>0.000000</td>\n",
              "      <td>0.00000</td>\n",
              "      <td>0.000000</td>\n",
              "      <td>0.000000</td>\n",
              "      <td>0.00000</td>\n",
              "      <td>0.000000</td>\n",
              "      <td>0.000000</td>\n",
              "      <td>0.000000</td>\n",
              "      <td>0.000000</td>\n",
              "      <td>0.000000</td>\n",
              "      <td>0.000000</td>\n",
              "      <td>0.00000</td>\n",
              "      <td>0.000000</td>\n",
              "      <td>0.000000</td>\n",
              "      <td>0.00000</td>\n",
              "      <td>0.000000</td>\n",
              "      <td>0.000000</td>\n",
              "      <td>0.000000</td>\n",
              "      <td>0.00000</td>\n",
              "      <td>0.000000</td>\n",
              "      <td>0.000000</td>\n",
              "      <td>0.000000</td>\n",
              "      <td>0.00000</td>\n",
              "      <td>0.000000</td>\n",
              "      <td>0.00000</td>\n",
              "      <td>0.000000</td>\n",
              "      <td>0.000000</td>\n",
              "      <td>0.000000</td>\n",
              "      <td>0.000000</td>\n",
              "      <td>0.00000</td>\n",
              "      <td>0.000000</td>\n",
              "      <td>0.000000</td>\n",
              "      <td>0.000000</td>\n",
              "      <td>0.000000</td>\n",
              "      <td>0.000000</td>\n",
              "      <td>0.00000</td>\n",
              "      <td>0.00000</td>\n",
              "      <td>0.00000</td>\n",
              "      <td>0.00000</td>\n",
              "      <td>0.000000</td>\n",
              "    </tr>\n",
              "    <tr>\n",
              "      <th>1</th>\n",
              "      <td>-0.038194</td>\n",
              "      <td>-0.244870</td>\n",
              "      <td>0.728120</td>\n",
              "      <td>-0.399610</td>\n",
              "      <td>0.083172</td>\n",
              "      <td>0.043953</td>\n",
              "      <td>-0.39141</td>\n",
              "      <td>0.33440</td>\n",
              "      <td>-0.57545</td>\n",
              "      <td>0.087459</td>\n",
              "      <td>0.28787</td>\n",
              "      <td>-0.067310</td>\n",
              "      <td>0.309060</td>\n",
              "      <td>-0.263840</td>\n",
              "      <td>-0.13231</td>\n",
              "      <td>-0.207570</td>\n",
              "      <td>0.33395</td>\n",
              "      <td>-0.338480</td>\n",
              "      <td>-0.317430</td>\n",
              "      <td>-0.483360</td>\n",
              "      <td>0.146400</td>\n",
              "      <td>-0.373040</td>\n",
              "      <td>0.345770</td>\n",
              "      <td>0.052041</td>\n",
              "      <td>0.449460</td>\n",
              "      <td>-0.46971</td>\n",
              "      <td>0.02628</td>\n",
              "      <td>-0.54155</td>\n",
              "      <td>-0.155180</td>\n",
              "      <td>-0.141070</td>\n",
              "      <td>-0.039722</td>\n",
              "      <td>0.282770</td>\n",
              "      <td>0.143930</td>\n",
              "      <td>0.23464</td>\n",
              "      <td>-0.310210</td>\n",
              "      <td>0.086173</td>\n",
              "      <td>0.203970</td>\n",
              "      <td>0.52624</td>\n",
              "      <td>0.171640</td>\n",
              "      <td>-0.082378</td>\n",
              "      <td>...</td>\n",
              "      <td>-0.249780</td>\n",
              "      <td>0.92136</td>\n",
              "      <td>0.034514</td>\n",
              "      <td>0.467450</td>\n",
              "      <td>1.10790</td>\n",
              "      <td>-0.193580</td>\n",
              "      <td>-0.074575</td>\n",
              "      <td>0.233530</td>\n",
              "      <td>-0.052062</td>\n",
              "      <td>-0.220440</td>\n",
              "      <td>0.057162</td>\n",
              "      <td>-0.15806</td>\n",
              "      <td>-0.307980</td>\n",
              "      <td>-0.416250</td>\n",
              "      <td>0.37972</td>\n",
              "      <td>0.150060</td>\n",
              "      <td>-0.532120</td>\n",
              "      <td>-0.205500</td>\n",
              "      <td>-1.25260</td>\n",
              "      <td>0.071624</td>\n",
              "      <td>0.705650</td>\n",
              "      <td>0.497440</td>\n",
              "      <td>-0.42063</td>\n",
              "      <td>0.261480</td>\n",
              "      <td>-1.53800</td>\n",
              "      <td>-0.302230</td>\n",
              "      <td>-0.073438</td>\n",
              "      <td>-0.283120</td>\n",
              "      <td>0.371040</td>\n",
              "      <td>-0.25217</td>\n",
              "      <td>0.016215</td>\n",
              "      <td>-0.017099</td>\n",
              "      <td>-0.389840</td>\n",
              "      <td>0.874240</td>\n",
              "      <td>-0.725690</td>\n",
              "      <td>-0.51058</td>\n",
              "      <td>-0.52028</td>\n",
              "      <td>-0.14590</td>\n",
              "      <td>0.82780</td>\n",
              "      <td>0.270620</td>\n",
              "    </tr>\n",
              "    <tr>\n",
              "      <th>2</th>\n",
              "      <td>-0.071953</td>\n",
              "      <td>0.231270</td>\n",
              "      <td>0.023731</td>\n",
              "      <td>-0.506380</td>\n",
              "      <td>0.339230</td>\n",
              "      <td>0.195900</td>\n",
              "      <td>-0.32943</td>\n",
              "      <td>0.18364</td>\n",
              "      <td>-0.18057</td>\n",
              "      <td>0.289630</td>\n",
              "      <td>0.20448</td>\n",
              "      <td>-0.549600</td>\n",
              "      <td>0.273990</td>\n",
              "      <td>0.583270</td>\n",
              "      <td>0.20468</td>\n",
              "      <td>-0.492280</td>\n",
              "      <td>0.19974</td>\n",
              "      <td>-0.070237</td>\n",
              "      <td>-0.880490</td>\n",
              "      <td>0.294850</td>\n",
              "      <td>0.140710</td>\n",
              "      <td>-0.100900</td>\n",
              "      <td>0.994490</td>\n",
              "      <td>0.369730</td>\n",
              "      <td>0.445540</td>\n",
              "      <td>0.28998</td>\n",
              "      <td>-0.13760</td>\n",
              "      <td>-0.56365</td>\n",
              "      <td>-0.029365</td>\n",
              "      <td>-0.412200</td>\n",
              "      <td>-0.252690</td>\n",
              "      <td>0.631810</td>\n",
              "      <td>-0.447670</td>\n",
              "      <td>0.24363</td>\n",
              "      <td>-0.108130</td>\n",
              "      <td>0.251640</td>\n",
              "      <td>0.469670</td>\n",
              "      <td>0.37550</td>\n",
              "      <td>-0.236130</td>\n",
              "      <td>-0.141290</td>\n",
              "      <td>...</td>\n",
              "      <td>-0.223220</td>\n",
              "      <td>0.72932</td>\n",
              "      <td>-0.053211</td>\n",
              "      <td>0.435070</td>\n",
              "      <td>0.85011</td>\n",
              "      <td>-0.429350</td>\n",
              "      <td>0.926640</td>\n",
              "      <td>0.390510</td>\n",
              "      <td>1.058500</td>\n",
              "      <td>-0.245610</td>\n",
              "      <td>-0.182650</td>\n",
              "      <td>-0.53280</td>\n",
              "      <td>0.059518</td>\n",
              "      <td>-0.660190</td>\n",
              "      <td>0.18991</td>\n",
              "      <td>0.288360</td>\n",
              "      <td>-0.243400</td>\n",
              "      <td>0.527840</td>\n",
              "      <td>-0.65762</td>\n",
              "      <td>-0.140810</td>\n",
              "      <td>1.049100</td>\n",
              "      <td>0.513400</td>\n",
              "      <td>-0.23816</td>\n",
              "      <td>0.698950</td>\n",
              "      <td>-1.48130</td>\n",
              "      <td>-0.248700</td>\n",
              "      <td>-0.179360</td>\n",
              "      <td>-0.059137</td>\n",
              "      <td>-0.080560</td>\n",
              "      <td>-0.48782</td>\n",
              "      <td>0.014487</td>\n",
              "      <td>-0.625900</td>\n",
              "      <td>-0.323670</td>\n",
              "      <td>0.418620</td>\n",
              "      <td>-1.080700</td>\n",
              "      <td>0.46742</td>\n",
              "      <td>-0.49931</td>\n",
              "      <td>-0.71895</td>\n",
              "      <td>0.86894</td>\n",
              "      <td>0.195390</td>\n",
              "    </tr>\n",
              "    <tr>\n",
              "      <th>3</th>\n",
              "      <td>-0.270860</td>\n",
              "      <td>0.044006</td>\n",
              "      <td>-0.020260</td>\n",
              "      <td>-0.173950</td>\n",
              "      <td>0.644400</td>\n",
              "      <td>0.712130</td>\n",
              "      <td>0.35510</td>\n",
              "      <td>0.47138</td>\n",
              "      <td>-0.29637</td>\n",
              "      <td>0.544270</td>\n",
              "      <td>-0.72294</td>\n",
              "      <td>-0.004761</td>\n",
              "      <td>0.040611</td>\n",
              "      <td>0.043236</td>\n",
              "      <td>0.29729</td>\n",
              "      <td>0.107250</td>\n",
              "      <td>0.40156</td>\n",
              "      <td>-0.536620</td>\n",
              "      <td>0.033382</td>\n",
              "      <td>0.067396</td>\n",
              "      <td>0.645560</td>\n",
              "      <td>-0.085523</td>\n",
              "      <td>0.141030</td>\n",
              "      <td>0.094539</td>\n",
              "      <td>0.749470</td>\n",
              "      <td>-0.19400</td>\n",
              "      <td>-0.68739</td>\n",
              "      <td>-0.41741</td>\n",
              "      <td>-0.228070</td>\n",
              "      <td>0.120000</td>\n",
              "      <td>-0.489990</td>\n",
              "      <td>0.809450</td>\n",
              "      <td>0.045138</td>\n",
              "      <td>-0.11898</td>\n",
              "      <td>0.201610</td>\n",
              "      <td>0.392760</td>\n",
              "      <td>-0.201210</td>\n",
              "      <td>0.31354</td>\n",
              "      <td>0.753040</td>\n",
              "      <td>0.259070</td>\n",
              "      <td>...</td>\n",
              "      <td>-0.033425</td>\n",
              "      <td>0.69553</td>\n",
              "      <td>-0.644720</td>\n",
              "      <td>-0.007228</td>\n",
              "      <td>0.89575</td>\n",
              "      <td>0.200150</td>\n",
              "      <td>0.464930</td>\n",
              "      <td>0.619330</td>\n",
              "      <td>-0.106600</td>\n",
              "      <td>0.086910</td>\n",
              "      <td>-0.462300</td>\n",
              "      <td>0.18262</td>\n",
              "      <td>-0.158490</td>\n",
              "      <td>0.020791</td>\n",
              "      <td>0.19373</td>\n",
              "      <td>0.063426</td>\n",
              "      <td>-0.316730</td>\n",
              "      <td>-0.481770</td>\n",
              "      <td>-1.38480</td>\n",
              "      <td>0.136690</td>\n",
              "      <td>0.968590</td>\n",
              "      <td>0.049965</td>\n",
              "      <td>-0.27380</td>\n",
              "      <td>-0.035686</td>\n",
              "      <td>-1.05770</td>\n",
              "      <td>-0.244670</td>\n",
              "      <td>0.903660</td>\n",
              "      <td>-0.124420</td>\n",
              "      <td>0.080776</td>\n",
              "      <td>-0.83401</td>\n",
              "      <td>0.572010</td>\n",
              "      <td>0.088945</td>\n",
              "      <td>-0.425320</td>\n",
              "      <td>-0.018253</td>\n",
              "      <td>-0.079995</td>\n",
              "      <td>-0.28581</td>\n",
              "      <td>-0.01089</td>\n",
              "      <td>-0.49230</td>\n",
              "      <td>0.63687</td>\n",
              "      <td>0.236420</td>\n",
              "    </tr>\n",
              "    <tr>\n",
              "      <th>4</th>\n",
              "      <td>-0.152900</td>\n",
              "      <td>-0.242790</td>\n",
              "      <td>0.898370</td>\n",
              "      <td>0.169960</td>\n",
              "      <td>0.535160</td>\n",
              "      <td>0.487840</td>\n",
              "      <td>-0.58826</td>\n",
              "      <td>-0.17982</td>\n",
              "      <td>-1.35810</td>\n",
              "      <td>0.425410</td>\n",
              "      <td>0.15377</td>\n",
              "      <td>0.242150</td>\n",
              "      <td>0.134740</td>\n",
              "      <td>0.411930</td>\n",
              "      <td>0.67043</td>\n",
              "      <td>-0.564180</td>\n",
              "      <td>0.42985</td>\n",
              "      <td>-0.012183</td>\n",
              "      <td>-0.116770</td>\n",
              "      <td>0.317810</td>\n",
              "      <td>0.054177</td>\n",
              "      <td>-0.054273</td>\n",
              "      <td>0.355160</td>\n",
              "      <td>-0.302410</td>\n",
              "      <td>0.314340</td>\n",
              "      <td>-0.33846</td>\n",
              "      <td>0.71715</td>\n",
              "      <td>-0.26855</td>\n",
              "      <td>-0.158370</td>\n",
              "      <td>-0.474670</td>\n",
              "      <td>0.051581</td>\n",
              "      <td>-0.332520</td>\n",
              "      <td>0.150030</td>\n",
              "      <td>-0.12990</td>\n",
              "      <td>-0.546170</td>\n",
              "      <td>-0.378430</td>\n",
              "      <td>0.642610</td>\n",
              "      <td>0.82187</td>\n",
              "      <td>-0.080006</td>\n",
              "      <td>0.078479</td>\n",
              "      <td>...</td>\n",
              "      <td>0.048850</td>\n",
              "      <td>0.78267</td>\n",
              "      <td>0.384970</td>\n",
              "      <td>0.420970</td>\n",
              "      <td>0.67882</td>\n",
              "      <td>0.103370</td>\n",
              "      <td>0.632800</td>\n",
              "      <td>-0.026595</td>\n",
              "      <td>0.586470</td>\n",
              "      <td>-0.443320</td>\n",
              "      <td>0.330570</td>\n",
              "      <td>-0.12022</td>\n",
              "      <td>-0.556450</td>\n",
              "      <td>0.073611</td>\n",
              "      <td>0.20915</td>\n",
              "      <td>0.433950</td>\n",
              "      <td>-0.012761</td>\n",
              "      <td>0.089874</td>\n",
              "      <td>-1.79910</td>\n",
              "      <td>0.084808</td>\n",
              "      <td>0.771120</td>\n",
              "      <td>0.631050</td>\n",
              "      <td>-0.90685</td>\n",
              "      <td>0.603260</td>\n",
              "      <td>-1.75150</td>\n",
              "      <td>0.185960</td>\n",
              "      <td>-0.506870</td>\n",
              "      <td>-0.702030</td>\n",
              "      <td>0.665780</td>\n",
              "      <td>-0.81304</td>\n",
              "      <td>0.187120</td>\n",
              "      <td>-0.018488</td>\n",
              "      <td>-0.267570</td>\n",
              "      <td>0.727000</td>\n",
              "      <td>-0.593630</td>\n",
              "      <td>-0.34839</td>\n",
              "      <td>-0.56094</td>\n",
              "      <td>-0.59100</td>\n",
              "      <td>1.00390</td>\n",
              "      <td>0.206640</td>\n",
              "    </tr>\n",
              "    <tr>\n",
              "      <th>...</th>\n",
              "      <td>...</td>\n",
              "      <td>...</td>\n",
              "      <td>...</td>\n",
              "      <td>...</td>\n",
              "      <td>...</td>\n",
              "      <td>...</td>\n",
              "      <td>...</td>\n",
              "      <td>...</td>\n",
              "      <td>...</td>\n",
              "      <td>...</td>\n",
              "      <td>...</td>\n",
              "      <td>...</td>\n",
              "      <td>...</td>\n",
              "      <td>...</td>\n",
              "      <td>...</td>\n",
              "      <td>...</td>\n",
              "      <td>...</td>\n",
              "      <td>...</td>\n",
              "      <td>...</td>\n",
              "      <td>...</td>\n",
              "      <td>...</td>\n",
              "      <td>...</td>\n",
              "      <td>...</td>\n",
              "      <td>...</td>\n",
              "      <td>...</td>\n",
              "      <td>...</td>\n",
              "      <td>...</td>\n",
              "      <td>...</td>\n",
              "      <td>...</td>\n",
              "      <td>...</td>\n",
              "      <td>...</td>\n",
              "      <td>...</td>\n",
              "      <td>...</td>\n",
              "      <td>...</td>\n",
              "      <td>...</td>\n",
              "      <td>...</td>\n",
              "      <td>...</td>\n",
              "      <td>...</td>\n",
              "      <td>...</td>\n",
              "      <td>...</td>\n",
              "      <td>...</td>\n",
              "      <td>...</td>\n",
              "      <td>...</td>\n",
              "      <td>...</td>\n",
              "      <td>...</td>\n",
              "      <td>...</td>\n",
              "      <td>...</td>\n",
              "      <td>...</td>\n",
              "      <td>...</td>\n",
              "      <td>...</td>\n",
              "      <td>...</td>\n",
              "      <td>...</td>\n",
              "      <td>...</td>\n",
              "      <td>...</td>\n",
              "      <td>...</td>\n",
              "      <td>...</td>\n",
              "      <td>...</td>\n",
              "      <td>...</td>\n",
              "      <td>...</td>\n",
              "      <td>...</td>\n",
              "      <td>...</td>\n",
              "      <td>...</td>\n",
              "      <td>...</td>\n",
              "      <td>...</td>\n",
              "      <td>...</td>\n",
              "      <td>...</td>\n",
              "      <td>...</td>\n",
              "      <td>...</td>\n",
              "      <td>...</td>\n",
              "      <td>...</td>\n",
              "      <td>...</td>\n",
              "      <td>...</td>\n",
              "      <td>...</td>\n",
              "      <td>...</td>\n",
              "      <td>...</td>\n",
              "      <td>...</td>\n",
              "      <td>...</td>\n",
              "      <td>...</td>\n",
              "      <td>...</td>\n",
              "      <td>...</td>\n",
              "      <td>...</td>\n",
              "    </tr>\n",
              "    <tr>\n",
              "      <th>110311</th>\n",
              "      <td>-0.241980</td>\n",
              "      <td>-0.624000</td>\n",
              "      <td>-0.017437</td>\n",
              "      <td>-0.350910</td>\n",
              "      <td>0.453320</td>\n",
              "      <td>-0.268770</td>\n",
              "      <td>-1.53820</td>\n",
              "      <td>0.16492</td>\n",
              "      <td>0.19361</td>\n",
              "      <td>-0.175950</td>\n",
              "      <td>0.93783</td>\n",
              "      <td>0.697680</td>\n",
              "      <td>-0.260220</td>\n",
              "      <td>0.551710</td>\n",
              "      <td>0.10940</td>\n",
              "      <td>-0.826670</td>\n",
              "      <td>0.62749</td>\n",
              "      <td>0.215730</td>\n",
              "      <td>0.470870</td>\n",
              "      <td>-0.282040</td>\n",
              "      <td>0.263790</td>\n",
              "      <td>0.268190</td>\n",
              "      <td>0.259380</td>\n",
              "      <td>0.188840</td>\n",
              "      <td>-0.453790</td>\n",
              "      <td>0.65771</td>\n",
              "      <td>0.18863</td>\n",
              "      <td>0.15029</td>\n",
              "      <td>-1.063600</td>\n",
              "      <td>0.627950</td>\n",
              "      <td>-0.965520</td>\n",
              "      <td>-0.237820</td>\n",
              "      <td>0.340370</td>\n",
              "      <td>0.51847</td>\n",
              "      <td>-0.422290</td>\n",
              "      <td>-0.214320</td>\n",
              "      <td>-0.104130</td>\n",
              "      <td>0.51002</td>\n",
              "      <td>-0.435780</td>\n",
              "      <td>-0.260600</td>\n",
              "      <td>...</td>\n",
              "      <td>-0.562630</td>\n",
              "      <td>0.22614</td>\n",
              "      <td>-0.381360</td>\n",
              "      <td>-0.251940</td>\n",
              "      <td>-0.34625</td>\n",
              "      <td>-0.188070</td>\n",
              "      <td>-0.416370</td>\n",
              "      <td>-0.518740</td>\n",
              "      <td>0.551050</td>\n",
              "      <td>0.194110</td>\n",
              "      <td>0.175060</td>\n",
              "      <td>0.13755</td>\n",
              "      <td>0.162360</td>\n",
              "      <td>-0.584780</td>\n",
              "      <td>-0.30659</td>\n",
              "      <td>-0.878010</td>\n",
              "      <td>-0.496120</td>\n",
              "      <td>0.261300</td>\n",
              "      <td>-0.36305</td>\n",
              "      <td>0.566840</td>\n",
              "      <td>0.049381</td>\n",
              "      <td>-0.344210</td>\n",
              "      <td>0.90951</td>\n",
              "      <td>0.852430</td>\n",
              "      <td>1.08820</td>\n",
              "      <td>-0.236530</td>\n",
              "      <td>0.419880</td>\n",
              "      <td>0.287960</td>\n",
              "      <td>0.848410</td>\n",
              "      <td>-0.22789</td>\n",
              "      <td>-0.550270</td>\n",
              "      <td>-0.246690</td>\n",
              "      <td>0.190090</td>\n",
              "      <td>-0.452750</td>\n",
              "      <td>0.599870</td>\n",
              "      <td>0.68903</td>\n",
              "      <td>0.62804</td>\n",
              "      <td>-0.21833</td>\n",
              "      <td>-0.10639</td>\n",
              "      <td>-0.308880</td>\n",
              "    </tr>\n",
              "    <tr>\n",
              "      <th>110312</th>\n",
              "      <td>0.000000</td>\n",
              "      <td>0.000000</td>\n",
              "      <td>0.000000</td>\n",
              "      <td>0.000000</td>\n",
              "      <td>0.000000</td>\n",
              "      <td>0.000000</td>\n",
              "      <td>0.00000</td>\n",
              "      <td>0.00000</td>\n",
              "      <td>0.00000</td>\n",
              "      <td>0.000000</td>\n",
              "      <td>0.00000</td>\n",
              "      <td>0.000000</td>\n",
              "      <td>0.000000</td>\n",
              "      <td>0.000000</td>\n",
              "      <td>0.00000</td>\n",
              "      <td>0.000000</td>\n",
              "      <td>0.00000</td>\n",
              "      <td>0.000000</td>\n",
              "      <td>0.000000</td>\n",
              "      <td>0.000000</td>\n",
              "      <td>0.000000</td>\n",
              "      <td>0.000000</td>\n",
              "      <td>0.000000</td>\n",
              "      <td>0.000000</td>\n",
              "      <td>0.000000</td>\n",
              "      <td>0.00000</td>\n",
              "      <td>0.00000</td>\n",
              "      <td>0.00000</td>\n",
              "      <td>0.000000</td>\n",
              "      <td>0.000000</td>\n",
              "      <td>0.000000</td>\n",
              "      <td>0.000000</td>\n",
              "      <td>0.000000</td>\n",
              "      <td>0.00000</td>\n",
              "      <td>0.000000</td>\n",
              "      <td>0.000000</td>\n",
              "      <td>0.000000</td>\n",
              "      <td>0.00000</td>\n",
              "      <td>0.000000</td>\n",
              "      <td>0.000000</td>\n",
              "      <td>...</td>\n",
              "      <td>0.000000</td>\n",
              "      <td>0.00000</td>\n",
              "      <td>0.000000</td>\n",
              "      <td>0.000000</td>\n",
              "      <td>0.00000</td>\n",
              "      <td>0.000000</td>\n",
              "      <td>0.000000</td>\n",
              "      <td>0.000000</td>\n",
              "      <td>0.000000</td>\n",
              "      <td>0.000000</td>\n",
              "      <td>0.000000</td>\n",
              "      <td>0.00000</td>\n",
              "      <td>0.000000</td>\n",
              "      <td>0.000000</td>\n",
              "      <td>0.00000</td>\n",
              "      <td>0.000000</td>\n",
              "      <td>0.000000</td>\n",
              "      <td>0.000000</td>\n",
              "      <td>0.00000</td>\n",
              "      <td>0.000000</td>\n",
              "      <td>0.000000</td>\n",
              "      <td>0.000000</td>\n",
              "      <td>0.00000</td>\n",
              "      <td>0.000000</td>\n",
              "      <td>0.00000</td>\n",
              "      <td>0.000000</td>\n",
              "      <td>0.000000</td>\n",
              "      <td>0.000000</td>\n",
              "      <td>0.000000</td>\n",
              "      <td>0.00000</td>\n",
              "      <td>0.000000</td>\n",
              "      <td>0.000000</td>\n",
              "      <td>0.000000</td>\n",
              "      <td>0.000000</td>\n",
              "      <td>0.000000</td>\n",
              "      <td>0.00000</td>\n",
              "      <td>0.00000</td>\n",
              "      <td>0.00000</td>\n",
              "      <td>0.00000</td>\n",
              "      <td>0.000000</td>\n",
              "    </tr>\n",
              "    <tr>\n",
              "      <th>110313</th>\n",
              "      <td>0.000000</td>\n",
              "      <td>0.000000</td>\n",
              "      <td>0.000000</td>\n",
              "      <td>0.000000</td>\n",
              "      <td>0.000000</td>\n",
              "      <td>0.000000</td>\n",
              "      <td>0.00000</td>\n",
              "      <td>0.00000</td>\n",
              "      <td>0.00000</td>\n",
              "      <td>0.000000</td>\n",
              "      <td>0.00000</td>\n",
              "      <td>0.000000</td>\n",
              "      <td>0.000000</td>\n",
              "      <td>0.000000</td>\n",
              "      <td>0.00000</td>\n",
              "      <td>0.000000</td>\n",
              "      <td>0.00000</td>\n",
              "      <td>0.000000</td>\n",
              "      <td>0.000000</td>\n",
              "      <td>0.000000</td>\n",
              "      <td>0.000000</td>\n",
              "      <td>0.000000</td>\n",
              "      <td>0.000000</td>\n",
              "      <td>0.000000</td>\n",
              "      <td>0.000000</td>\n",
              "      <td>0.00000</td>\n",
              "      <td>0.00000</td>\n",
              "      <td>0.00000</td>\n",
              "      <td>0.000000</td>\n",
              "      <td>0.000000</td>\n",
              "      <td>0.000000</td>\n",
              "      <td>0.000000</td>\n",
              "      <td>0.000000</td>\n",
              "      <td>0.00000</td>\n",
              "      <td>0.000000</td>\n",
              "      <td>0.000000</td>\n",
              "      <td>0.000000</td>\n",
              "      <td>0.00000</td>\n",
              "      <td>0.000000</td>\n",
              "      <td>0.000000</td>\n",
              "      <td>...</td>\n",
              "      <td>0.000000</td>\n",
              "      <td>0.00000</td>\n",
              "      <td>0.000000</td>\n",
              "      <td>0.000000</td>\n",
              "      <td>0.00000</td>\n",
              "      <td>0.000000</td>\n",
              "      <td>0.000000</td>\n",
              "      <td>0.000000</td>\n",
              "      <td>0.000000</td>\n",
              "      <td>0.000000</td>\n",
              "      <td>0.000000</td>\n",
              "      <td>0.00000</td>\n",
              "      <td>0.000000</td>\n",
              "      <td>0.000000</td>\n",
              "      <td>0.00000</td>\n",
              "      <td>0.000000</td>\n",
              "      <td>0.000000</td>\n",
              "      <td>0.000000</td>\n",
              "      <td>0.00000</td>\n",
              "      <td>0.000000</td>\n",
              "      <td>0.000000</td>\n",
              "      <td>0.000000</td>\n",
              "      <td>0.00000</td>\n",
              "      <td>0.000000</td>\n",
              "      <td>0.00000</td>\n",
              "      <td>0.000000</td>\n",
              "      <td>0.000000</td>\n",
              "      <td>0.000000</td>\n",
              "      <td>0.000000</td>\n",
              "      <td>0.00000</td>\n",
              "      <td>0.000000</td>\n",
              "      <td>0.000000</td>\n",
              "      <td>0.000000</td>\n",
              "      <td>0.000000</td>\n",
              "      <td>0.000000</td>\n",
              "      <td>0.00000</td>\n",
              "      <td>0.00000</td>\n",
              "      <td>0.00000</td>\n",
              "      <td>0.00000</td>\n",
              "      <td>0.000000</td>\n",
              "    </tr>\n",
              "    <tr>\n",
              "      <th>110314</th>\n",
              "      <td>0.330170</td>\n",
              "      <td>-0.143070</td>\n",
              "      <td>-0.131440</td>\n",
              "      <td>-0.014791</td>\n",
              "      <td>-0.107520</td>\n",
              "      <td>0.003284</td>\n",
              "      <td>-0.16908</td>\n",
              "      <td>0.12471</td>\n",
              "      <td>0.16198</td>\n",
              "      <td>0.077754</td>\n",
              "      <td>-0.17810</td>\n",
              "      <td>0.205520</td>\n",
              "      <td>0.151380</td>\n",
              "      <td>-0.132800</td>\n",
              "      <td>-0.35236</td>\n",
              "      <td>-0.071375</td>\n",
              "      <td>-0.19114</td>\n",
              "      <td>-0.029959</td>\n",
              "      <td>0.026904</td>\n",
              "      <td>-0.148770</td>\n",
              "      <td>-0.838620</td>\n",
              "      <td>-0.377610</td>\n",
              "      <td>-0.020586</td>\n",
              "      <td>-0.388750</td>\n",
              "      <td>-0.082611</td>\n",
              "      <td>-0.15153</td>\n",
              "      <td>-0.23068</td>\n",
              "      <td>0.12477</td>\n",
              "      <td>0.054594</td>\n",
              "      <td>0.075513</td>\n",
              "      <td>0.419900</td>\n",
              "      <td>-0.021933</td>\n",
              "      <td>0.096259</td>\n",
              "      <td>-0.21576</td>\n",
              "      <td>-0.059682</td>\n",
              "      <td>0.001851</td>\n",
              "      <td>-0.097293</td>\n",
              "      <td>-0.45902</td>\n",
              "      <td>0.383740</td>\n",
              "      <td>-0.007226</td>\n",
              "      <td>...</td>\n",
              "      <td>-0.038041</td>\n",
              "      <td>-0.44214</td>\n",
              "      <td>0.278130</td>\n",
              "      <td>-0.174710</td>\n",
              "      <td>0.18667</td>\n",
              "      <td>-0.079669</td>\n",
              "      <td>-0.478180</td>\n",
              "      <td>-0.198750</td>\n",
              "      <td>-0.056847</td>\n",
              "      <td>-0.097353</td>\n",
              "      <td>0.554240</td>\n",
              "      <td>0.12893</td>\n",
              "      <td>0.161910</td>\n",
              "      <td>0.189860</td>\n",
              "      <td>-0.35560</td>\n",
              "      <td>0.100390</td>\n",
              "      <td>-0.159350</td>\n",
              "      <td>-0.475390</td>\n",
              "      <td>0.65174</td>\n",
              "      <td>0.013868</td>\n",
              "      <td>-0.569670</td>\n",
              "      <td>-0.038193</td>\n",
              "      <td>0.34158</td>\n",
              "      <td>-0.069680</td>\n",
              "      <td>0.44658</td>\n",
              "      <td>-0.040184</td>\n",
              "      <td>-0.006468</td>\n",
              "      <td>0.115300</td>\n",
              "      <td>0.375530</td>\n",
              "      <td>0.25118</td>\n",
              "      <td>0.047441</td>\n",
              "      <td>-0.108890</td>\n",
              "      <td>0.046765</td>\n",
              "      <td>0.162810</td>\n",
              "      <td>0.387340</td>\n",
              "      <td>-0.11133</td>\n",
              "      <td>0.36294</td>\n",
              "      <td>0.00214</td>\n",
              "      <td>-0.37141</td>\n",
              "      <td>-0.045805</td>\n",
              "    </tr>\n",
              "    <tr>\n",
              "      <th>110315</th>\n",
              "      <td>0.000000</td>\n",
              "      <td>0.000000</td>\n",
              "      <td>0.000000</td>\n",
              "      <td>0.000000</td>\n",
              "      <td>0.000000</td>\n",
              "      <td>0.000000</td>\n",
              "      <td>0.00000</td>\n",
              "      <td>0.00000</td>\n",
              "      <td>0.00000</td>\n",
              "      <td>0.000000</td>\n",
              "      <td>0.00000</td>\n",
              "      <td>0.000000</td>\n",
              "      <td>0.000000</td>\n",
              "      <td>0.000000</td>\n",
              "      <td>0.00000</td>\n",
              "      <td>0.000000</td>\n",
              "      <td>0.00000</td>\n",
              "      <td>0.000000</td>\n",
              "      <td>0.000000</td>\n",
              "      <td>0.000000</td>\n",
              "      <td>0.000000</td>\n",
              "      <td>0.000000</td>\n",
              "      <td>0.000000</td>\n",
              "      <td>0.000000</td>\n",
              "      <td>0.000000</td>\n",
              "      <td>0.00000</td>\n",
              "      <td>0.00000</td>\n",
              "      <td>0.00000</td>\n",
              "      <td>0.000000</td>\n",
              "      <td>0.000000</td>\n",
              "      <td>0.000000</td>\n",
              "      <td>0.000000</td>\n",
              "      <td>0.000000</td>\n",
              "      <td>0.00000</td>\n",
              "      <td>0.000000</td>\n",
              "      <td>0.000000</td>\n",
              "      <td>0.000000</td>\n",
              "      <td>0.00000</td>\n",
              "      <td>0.000000</td>\n",
              "      <td>0.000000</td>\n",
              "      <td>...</td>\n",
              "      <td>0.000000</td>\n",
              "      <td>0.00000</td>\n",
              "      <td>0.000000</td>\n",
              "      <td>0.000000</td>\n",
              "      <td>0.00000</td>\n",
              "      <td>0.000000</td>\n",
              "      <td>0.000000</td>\n",
              "      <td>0.000000</td>\n",
              "      <td>0.000000</td>\n",
              "      <td>0.000000</td>\n",
              "      <td>0.000000</td>\n",
              "      <td>0.00000</td>\n",
              "      <td>0.000000</td>\n",
              "      <td>0.000000</td>\n",
              "      <td>0.00000</td>\n",
              "      <td>0.000000</td>\n",
              "      <td>0.000000</td>\n",
              "      <td>0.000000</td>\n",
              "      <td>0.00000</td>\n",
              "      <td>0.000000</td>\n",
              "      <td>0.000000</td>\n",
              "      <td>0.000000</td>\n",
              "      <td>0.00000</td>\n",
              "      <td>0.000000</td>\n",
              "      <td>0.00000</td>\n",
              "      <td>0.000000</td>\n",
              "      <td>0.000000</td>\n",
              "      <td>0.000000</td>\n",
              "      <td>0.000000</td>\n",
              "      <td>0.00000</td>\n",
              "      <td>0.000000</td>\n",
              "      <td>0.000000</td>\n",
              "      <td>0.000000</td>\n",
              "      <td>0.000000</td>\n",
              "      <td>0.000000</td>\n",
              "      <td>0.00000</td>\n",
              "      <td>0.00000</td>\n",
              "      <td>0.00000</td>\n",
              "      <td>0.00000</td>\n",
              "      <td>0.000000</td>\n",
              "    </tr>\n",
              "  </tbody>\n",
              "</table>\n",
              "<p>110316 rows × 100 columns</p>\n",
              "</div>"
            ],
            "text/plain": [
              "              0         1         2   ...       97       98        99\n",
              "0       0.000000  0.000000  0.000000  ...  0.00000  0.00000  0.000000\n",
              "1      -0.038194 -0.244870  0.728120  ... -0.14590  0.82780  0.270620\n",
              "2      -0.071953  0.231270  0.023731  ... -0.71895  0.86894  0.195390\n",
              "3      -0.270860  0.044006 -0.020260  ... -0.49230  0.63687  0.236420\n",
              "4      -0.152900 -0.242790  0.898370  ... -0.59100  1.00390  0.206640\n",
              "...          ...       ...       ...  ...      ...      ...       ...\n",
              "110311 -0.241980 -0.624000 -0.017437  ... -0.21833 -0.10639 -0.308880\n",
              "110312  0.000000  0.000000  0.000000  ...  0.00000  0.00000  0.000000\n",
              "110313  0.000000  0.000000  0.000000  ...  0.00000  0.00000  0.000000\n",
              "110314  0.330170 -0.143070 -0.131440  ...  0.00214 -0.37141 -0.045805\n",
              "110315  0.000000  0.000000  0.000000  ...  0.00000  0.00000  0.000000\n",
              "\n",
              "[110316 rows x 100 columns]"
            ]
          },
          "metadata": {
            "tags": []
          },
          "execution_count": 24
        }
      ]
    },
    {
      "cell_type": "markdown",
      "metadata": {
        "id": "yaFM3TpzRenS"
      },
      "source": [
        "### 7.LSTM Network"
      ]
    },
    {
      "cell_type": "code",
      "metadata": {
        "colab": {
          "base_uri": "https://localhost:8080/"
        },
        "id": "n7wM2CkeROIv",
        "outputId": "2d293d51-53e8-423c-8014-451f80d6db9a"
      },
      "source": [
        "embedding_layer = Embedding(vocal_length, 100, weights = [emb_matrix], input_length=max_len, trainable=False)\n",
        "#------------Model\n",
        "model = Sequential()\n",
        "model.add(embedding_layer)\n",
        "model.add(LSTM(128))\n",
        "model.add(Dense(1, activation='sigmoid'))\n",
        "model.compile(optimizer='adam', loss=\"binary_crossentropy\", metrics = ['accuracy'])\n",
        "model.summary()"
      ],
      "execution_count": 25,
      "outputs": [
        {
          "output_type": "stream",
          "text": [
            "Model: \"sequential\"\n",
            "_________________________________________________________________\n",
            "Layer (type)                 Output Shape              Param #   \n",
            "=================================================================\n",
            "embedding (Embedding)        (None, 100, 100)          11031600  \n",
            "_________________________________________________________________\n",
            "lstm (LSTM)                  (None, 128)               117248    \n",
            "_________________________________________________________________\n",
            "dense (Dense)                (None, 1)                 129       \n",
            "=================================================================\n",
            "Total params: 11,148,977\n",
            "Trainable params: 117,377\n",
            "Non-trainable params: 11,031,600\n",
            "_________________________________________________________________\n"
          ],
          "name": "stdout"
        }
      ]
    },
    {
      "cell_type": "markdown",
      "metadata": {
        "id": "ed5dGQUvbGRs"
      },
      "source": [
        "### 8.Model Training"
      ]
    },
    {
      "cell_type": "code",
      "metadata": {
        "colab": {
          "base_uri": "https://localhost:8080/"
        },
        "id": "6rgsihoUSr0l",
        "outputId": "ee1387f9-11a2-4699-c129-2fdfa799f17d"
      },
      "source": [
        "history = model.fit(X_train, y_train, batch_size=128, epochs=5, verbose=1, validation_split=0.2)"
      ],
      "execution_count": 28,
      "outputs": [
        {
          "output_type": "stream",
          "text": [
            "Epoch 1/5\n",
            "250/250 [==============================] - 9s 38ms/step - loss: 0.3807 - accuracy: 0.8281 - val_loss: 0.3745 - val_accuracy: 0.8321\n",
            "Epoch 2/5\n",
            "250/250 [==============================] - 8s 33ms/step - loss: 0.3566 - accuracy: 0.8410 - val_loss: 0.3581 - val_accuracy: 0.8381\n",
            "Epoch 3/5\n",
            "250/250 [==============================] - 8s 31ms/step - loss: 0.3399 - accuracy: 0.8506 - val_loss: 0.3478 - val_accuracy: 0.8464\n",
            "Epoch 4/5\n",
            "250/250 [==============================] - 8s 31ms/step - loss: 0.3237 - accuracy: 0.8584 - val_loss: 0.3500 - val_accuracy: 0.8465\n",
            "Epoch 5/5\n",
            "250/250 [==============================] - 8s 31ms/step - loss: 0.3095 - accuracy: 0.8664 - val_loss: 0.3321 - val_accuracy: 0.8545\n"
          ],
          "name": "stdout"
        }
      ]
    },
    {
      "cell_type": "markdown",
      "metadata": {
        "id": "kge74pkFbX0h"
      },
      "source": [
        "### 9.Model Evaluation"
      ]
    },
    {
      "cell_type": "code",
      "metadata": {
        "colab": {
          "base_uri": "https://localhost:8080/"
        },
        "id": "l_F5GnGlTPkz",
        "outputId": "38e5aa68-5110-4421-c8ed-60d7955943cf"
      },
      "source": [
        "score = model.evaluate(X_test, y_test, verbose=1)"
      ],
      "execution_count": 29,
      "outputs": [
        {
          "output_type": "stream",
          "text": [
            "313/313 [==============================] - 3s 10ms/step - loss: 0.3356 - accuracy: 0.8558\n"
          ],
          "name": "stdout"
        }
      ]
    },
    {
      "cell_type": "markdown",
      "metadata": {
        "id": "uG8E3psAbbSB"
      },
      "source": [
        "### 10.Model Analysis"
      ]
    },
    {
      "cell_type": "code",
      "metadata": {
        "colab": {
          "base_uri": "https://localhost:8080/",
          "height": 573
        },
        "id": "nS-WVlUhXQmD",
        "outputId": "92d47269-4831-40d1-f50d-6675c8f3b8fc"
      },
      "source": [
        "import matplotlib.pyplot as plt\n",
        "%matplotlib inline\n",
        "plt.plot(history.history['accuracy'])\n",
        "plt.plot(history.history['val_accuracy'])\n",
        "plt.title('model accuracy')\n",
        "plt.ylabel('accuracy')\n",
        "plt.xlabel('epoch')\n",
        "plt.legend(['train','test'], loc='upper left')\n",
        "plt.show()\n",
        "\n",
        "plt.plot(history.history['loss'])\n",
        "plt.plot(history.history['val_loss'])\n",
        "\n",
        "plt.title('model loss')\n",
        "plt.ylabel('loss')\n",
        "plt.xlabel('epoch')\n",
        "plt.legend(['train','test'], loc='upper left')\n",
        "plt.show()"
      ],
      "execution_count": 31,
      "outputs": [
        {
          "output_type": "display_data",
          "data": {
            "image/png": "[encoded data removed]",
            "text/plain": [
              "<Figure size 432x288 with 1 Axes>"
            ]
          },
          "metadata": {
            "tags": [],
            "needs_background": "light"
          }
        },
        {
          "output_type": "display_data",
          "data": {
            "image/png": "[encoded data removed]",
            "text/plain": [
              "<Figure size 432x288 with 1 Axes>"
            ]
          },
          "metadata": {
            "tags": [],
            "needs_background": "light"
          }
        }
      ]
    },
    {
      "cell_type": "markdown",
      "metadata": {
        "id": "N62Za50zbfXY"
      },
      "source": [
        "### 11.Model Prediction"
      ]
    },
    {
      "cell_type": "code",
      "metadata": {
        "colab": {
          "base_uri": "https://localhost:8080/",
          "height": 108
        },
        "id": "UrlGxw0FXlkX",
        "outputId": "1eafb0df-6176-4973-96bc-da75ba981156"
      },
      "source": [
        "X[20]"
      ],
      "execution_count": 32,
      "outputs": [
        {
          "output_type": "execute_result",
          "data": {
            "application/vnd.google.colaboratory.intrinsic+json": {
              "type": "string"
            },
            "text/plain": [
              "'Pretty bad PRC cheapie which I rarely bother to watch over again and it\\'s no wonder it\\'s slow and creaky and dull as a butter knife Mad doctor George Zucco is at it again turning a dimwitted farmhand in overalls (Glenn Strange into a wolf-man Unfortunately the makeup is virtually non-existent consisting only of a beard and dimestore fangs for the most part If it were not for Zucco and Strange\\'s presence along with the cute Anne Nagel this would be completely unwatchable Strange who would go on to play Frankenstein\\'s monster for Unuiversal in two years does a Lenny impression from \"Of Mice and Men\" it seems.*1/ (of Four)'"
            ]
          },
          "metadata": {
            "tags": []
          },
          "execution_count": 32
        }
      ]
    },
    {
      "cell_type": "code",
      "metadata": {
        "id": "k55Yt0xmYHR1"
      },
      "source": [
        "def Result(X):\n",
        "  ex = tokernizer.texts_to_sequences(X)\n",
        "  flat_list = []\n",
        "  for subplit in tqdm(ex):\n",
        "    for item in subplit:\n",
        "      flat_list.append(item)\n",
        "  ex = pad_sequences([flat_list], padding=\"post\", maxlen=max_len)\n",
        "  n2c = [\"Negative\",\"Positive\"]\n",
        "  result = n2c[np.argmax(model.predict(ex))]\n",
        "  return result"
      ],
      "execution_count": 44,
      "outputs": []
    },
    {
      "cell_type": "code",
      "metadata": {
        "colab": {
          "base_uri": "https://localhost:8080/",
          "height": 85,
          "referenced_widgets": [
            "35dde44773a3431ab1e784bca26c017e",
            "c289b7b8296a4b6eb2f2b2976733f4a1",
            "9d242748dc734863b232580d419989a0",
            "3f7f7ea88ed04bb2a4b2a63967930ec5",
            "51124c93db354432b6e8e241ede9720b",
            "05a550941bc84208a0cdf813a7cb8ce6",
            "b4568df326654d9da4be79a48f6286d3",
            "4af78b75a89e415e9f9d114f89798f85"
          ]
        },
        "id": "WOBR3cZFY035",
        "outputId": "28a3315d-fdd8-4201-d3f2-6047d3f3a4c5"
      },
      "source": [
        "Result(X[20])"
      ],
      "execution_count": 49,
      "outputs": [
        {
          "output_type": "display_data",
          "data": {
            "application/vnd.jupyter.widget-view+json": {
              "model_id": "35dde44773a3431ab1e784bca26c017e",
              "version_minor": 0,
              "version_major": 2
            },
            "text/plain": [
              "HBox(children=(FloatProgress(value=0.0, max=627.0), HTML(value='')))"
            ]
          },
          "metadata": {
            "tags": []
          }
        },
        {
          "output_type": "stream",
          "text": [
            "\n"
          ],
          "name": "stdout"
        },
        {
          "output_type": "execute_result",
          "data": {
            "application/vnd.google.colaboratory.intrinsic+json": {
              "type": "string"
            },
            "text/plain": [
              "'Negative'"
            ]
          },
          "metadata": {
            "tags": []
          },
          "execution_count": 49
        }
      ]
    }
  ]
}